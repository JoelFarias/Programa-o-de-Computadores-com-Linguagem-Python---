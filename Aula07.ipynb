{
 "cells": [
  {
   "cell_type": "markdown",
   "id": "00be7853-2fac-4c2b-9b16-20dcdac6b9b8",
   "metadata": {},
   "source": [
    "# Aula 07\n",
    "\n",
    "NumPy\n",
    "\n",
    "Matplotlib"
   ]
  },
  {
   "cell_type": "code",
   "execution_count": null,
   "id": "c4031958-5c30-4d42-ac37-f61bddcb6a22",
   "metadata": {},
   "outputs": [],
   "source": [
    "import numpy as np"
   ]
  },
  {
   "cell_type": "code",
   "execution_count": null,
   "id": "3ceb5809-0882-4f9e-9554-d13be006226d",
   "metadata": {},
   "outputs": [],
   "source": [
    "print(np.__version__)"
   ]
  },
  {
   "cell_type": "code",
   "execution_count": null,
   "id": "78bb9d10-c07b-4bde-b800-6100ba3a4ebd",
   "metadata": {},
   "outputs": [],
   "source": [
    "a = np.array([0, 1, 2, 3, 4])\n",
    "print(a)\n",
    "print(type(a))\n",
    "print(a.dtype)"
   ]
  },
  {
   "cell_type": "code",
   "execution_count": null,
   "id": "ee04d483-3be8-4997-81fd-9eb93ca350a2",
   "metadata": {},
   "outputs": [],
   "source": [
    "print([0, 1, 2, 3, 4])"
   ]
  },
  {
   "cell_type": "code",
   "execution_count": null,
   "id": "237be30a-0b47-4ab1-88cd-9a4824b5dad9",
   "metadata": {},
   "outputs": [],
   "source": [
    "print('Mediana:', np.median(a))\n",
    "print('Média:', a.mean())\n",
    "print('Desvio Padrão:', a.std())\n",
    "print('Variância:', a.var())\n",
    "print('Máx:', a.max())\n",
    "print('Mín:', a.min())\n",
    "print('Exponencial:', np.exp(a))\n",
    "print('Raiz:', np.sqrt(a))"
   ]
  },
  {
   "cell_type": "code",
   "execution_count": null,
   "id": "27c4e527-e85b-4938-9956-eb78592f2915",
   "metadata": {},
   "outputs": [],
   "source": [
    "d = np.arange(1,10)\n",
    "print(d)\n",
    "print('Soma dos Elementos:', np.sum(d))\n",
    "print('Produto dos Elementos:', np.prod(d))\n",
    "print('Soma acumulado:', np.cumsum(d))"
   ]
  },
  {
   "cell_type": "code",
   "execution_count": null,
   "id": "d8862e95-8306-40b8-a235-5d7492d76ff2",
   "metadata": {},
   "outputs": [],
   "source": [
    "b = np.array([[18,2,3,1],[4,8,10,12]])\n",
    "print(b)\n",
    "# axis = [0] coluna [1] linha\n",
    "print(b.sum())\n",
    "print(b.sum(axis=1))\n",
    "print(b.sum(axis=0))"
   ]
  },
  {
   "cell_type": "code",
   "execution_count": null,
   "id": "6626bf6e-d9eb-4ece-b5db-c57600ff5d15",
   "metadata": {},
   "outputs": [],
   "source": [
    "a = np.array([[11,12,13],[21,22,23],[31,32,33]])\n",
    "print(a)"
   ]
  },
  {
   "cell_type": "code",
   "execution_count": null,
   "id": "e81e6197-a7b0-4273-aaf7-3df235927eee",
   "metadata": {},
   "outputs": [],
   "source": [
    "print('Tamanho:', a.size)\n",
    "print('Dimensão:', a.ndim)\n",
    "print('Formato:', a.shape)\n",
    "print('Tipo:', type(a))\n",
    "print('Tipo do Array:', a.dtype)\n",
    "print('Elemento: ', a[1][2])"
   ]
  },
  {
   "cell_type": "code",
   "execution_count": null,
   "id": "5a759923-8157-49e5-9836-175470feee7e",
   "metadata": {},
   "outputs": [],
   "source": [
    "b = np.array(\n",
    "    [\n",
    "        [\n",
    "            [\n",
    "                [\n",
    "                    [[1,2],[3,4]],\n",
    "                    [[5,6],[7,8]]\n",
    "                ],[   \n",
    "                    [[11,21],[31,41]],\n",
    "                    [[51,61],[71,81]]\n",
    "                ]\n",
    "            ],[\n",
    "                [\n",
    "                    [[12,22],[32,42]],\n",
    "                    [[52,62],[72,82]]\n",
    "                ],[   \n",
    "                    [[13,23],[33,43]],\n",
    "                    [[53,63],[73,83]]\n",
    "                ]\n",
    "            ]\n",
    "        ],[\n",
    "            [\n",
    "                [\n",
    "                    [[14,24],[34,44]],\n",
    "                    [[54,64],[74,84]]\n",
    "                ],[   \n",
    "                    [[15,25],[35,45]],\n",
    "                    [[55,65],[75,85]]\n",
    "                ]\n",
    "            ],\n",
    "            [\n",
    "                [\n",
    "                    [[16,26],[36,46]],\n",
    "                    [[56,66],[76,86]]\n",
    "                ],[  \n",
    "                    [[17,27],[37,47]],\n",
    "                    [[57,67],[77,87]]\n",
    "                ]\n",
    "            ]\n",
    "        ]\n",
    "    ])"
   ]
  },
  {
   "cell_type": "code",
   "execution_count": null,
   "id": "527802e3-c1dd-4495-816a-c4ab9cfe8fb0",
   "metadata": {},
   "outputs": [],
   "source": [
    "c = np.array([1,2,3])\n",
    "c = np.array([[1,4],[2,5],[3,6]])\n",
    "c[]"
   ]
  },
  {
   "cell_type": "code",
   "execution_count": null,
   "id": "737fe568-2c13-4c92-a13f-c5f0374c4304",
   "metadata": {},
   "outputs": [],
   "source": [
    "print(b[0][1][0][1][1][0])"
   ]
  },
  {
   "cell_type": "code",
   "execution_count": null,
   "id": "bb635ee2-f990-43f3-bf92-e759604897f1",
   "metadata": {},
   "outputs": [],
   "source": [
    "print(b.ndim)"
   ]
  },
  {
   "cell_type": "code",
   "execution_count": null,
   "id": "4c047b10-cc65-42c2-aedc-04c1f5aeeb27",
   "metadata": {},
   "outputs": [],
   "source": [
    "print(type(10))"
   ]
  },
  {
   "cell_type": "markdown",
   "id": "fbca3033-7ac9-49c2-ad5f-608be898fea0",
   "metadata": {},
   "source": [
    "## Dados Ordenados e Aleatórios"
   ]
  },
  {
   "cell_type": "markdown",
   "id": "57b353e9-9d96-4298-bcfc-116a72221e57",
   "metadata": {},
   "source": [
    "#### Ordenados"
   ]
  },
  {
   "cell_type": "code",
   "execution_count": null,
   "id": "12b5ce44-d14f-4e4e-b32e-92f2dc04d7d1",
   "metadata": {},
   "outputs": [],
   "source": [
    "ordem = np.arange(12)\n",
    "print(ordem)"
   ]
  },
  {
   "cell_type": "code",
   "execution_count": null,
   "id": "a4a5a077-20be-4fc1-a637-8aaf71ce66b8",
   "metadata": {},
   "outputs": [],
   "source": [
    "ordem = np.arange(1,10)\n",
    "print(ordem)"
   ]
  },
  {
   "cell_type": "code",
   "execution_count": null,
   "id": "bc2b3772-2501-4eef-856d-ad67f7ae7e1e",
   "metadata": {},
   "outputs": [],
   "source": [
    "ordem = np.arange(1,11,2)\n",
    "print(ordem)"
   ]
  },
  {
   "cell_type": "code",
   "execution_count": null,
   "id": "3866f82a-0591-4687-b4d2-ee8f0c6fd135",
   "metadata": {},
   "outputs": [],
   "source": [
    "a = np.full((2,4),3)\n",
    "print(a)"
   ]
  },
  {
   "cell_type": "code",
   "execution_count": null,
   "id": "b54dfb2b-39fe-4b3c-ac06-3ebaca9f8d6c",
   "metadata": {},
   "outputs": [],
   "source": [
    "d = a / 2\n",
    "print(d)"
   ]
  },
  {
   "cell_type": "code",
   "execution_count": null,
   "id": "6dbf426b-063f-4b7c-a0eb-4d27a4432830",
   "metadata": {},
   "outputs": [],
   "source": [
    "print(np.linspace(2,5,50))"
   ]
  },
  {
   "cell_type": "markdown",
   "id": "b84d35f2-80f8-464b-81b8-47ebf0a33bed",
   "metadata": {},
   "source": [
    "#### Não Ordenados"
   ]
  },
  {
   "cell_type": "code",
   "execution_count": null,
   "id": "d01b0385-a5a8-49db-953c-baced7f2be31",
   "metadata": {},
   "outputs": [],
   "source": [
    "print(np.random.randint(0,2,20))"
   ]
  },
  {
   "cell_type": "code",
   "execution_count": null,
   "id": "5b951038-6588-4e4a-92f8-05963e66c33e",
   "metadata": {},
   "outputs": [],
   "source": [
    "print(np.random.random((5,2)))"
   ]
  },
  {
   "cell_type": "code",
   "execution_count": null,
   "id": "c16d6979-33dc-4c3f-9960-27e687c075ca",
   "metadata": {},
   "outputs": [],
   "source": [
    "c = np.random.random((5,2))\n",
    "d = c * 6 + 1\n",
    "d = np.int64(d)\n",
    "print(d)"
   ]
  },
  {
   "cell_type": "code",
   "execution_count": null,
   "id": "c2eef05f-e3ec-4be4-a346-47a18bfc41c2",
   "metadata": {},
   "outputs": [],
   "source": [
    "print(np.random.randn(5))"
   ]
  },
  {
   "cell_type": "markdown",
   "id": "988cfc50-f204-4b83-b040-3e69c5ddfa92",
   "metadata": {},
   "source": [
    "## Operações"
   ]
  },
  {
   "cell_type": "code",
   "execution_count": null,
   "id": "f47602ea-0217-4b99-bfa0-004a0f9812f3",
   "metadata": {},
   "outputs": [],
   "source": [
    "# Sem NumPy\n",
    "y = [1,2]\n",
    "z = []\n",
    "for n in y:\n",
    "    z.append(2 + n)\n",
    "print(z)    "
   ]
  },
  {
   "cell_type": "code",
   "execution_count": null,
   "id": "bd43e877-4b22-45ee-8743-ebf42abae9b0",
   "metadata": {},
   "outputs": [],
   "source": [
    "# Com NumPy\n",
    "y = np.array([1,2])\n",
    "z = y + 2\n",
    "print(z)"
   ]
  },
  {
   "cell_type": "code",
   "execution_count": null,
   "id": "e99d4068-198b-4d9d-ab4c-6f0ce35c4f8c",
   "metadata": {},
   "outputs": [],
   "source": [
    "n = np.array([[1,0],[1,0]])\n",
    "v = np.array([[0,1],[0,1]])\n",
    "t = n * v\n",
    "print(t) # Considere sua resposta na mesma linha e com um único espaço separador"
   ]
  },
  {
   "cell_type": "markdown",
   "id": "548462be-17ac-4eac-906c-1f5d39f5576a",
   "metadata": {},
   "source": [
    "### Zero, Ones, Eye"
   ]
  },
  {
   "cell_type": "code",
   "execution_count": null,
   "id": "b6ceb1a0-ab95-4fed-bf78-2c418dba70b8",
   "metadata": {},
   "outputs": [],
   "source": [
    "np.zeros((4,4))"
   ]
  },
  {
   "cell_type": "code",
   "execution_count": null,
   "id": "18ffd0f0-7b59-44b3-99f6-4c1b2ad09f52",
   "metadata": {},
   "outputs": [],
   "source": [
    "np.ones((4,4))"
   ]
  },
  {
   "cell_type": "code",
   "execution_count": null,
   "id": "46f925f7-d5af-4ae8-b3df-3c4996b973b7",
   "metadata": {},
   "outputs": [],
   "source": [
    "np.eye(4)"
   ]
  },
  {
   "cell_type": "markdown",
   "id": "333a05c7-29bd-4f39-8543-881353a44aec",
   "metadata": {},
   "source": [
    "## Matplotlib"
   ]
  },
  {
   "cell_type": "code",
   "execution_count": null,
   "id": "152e62df-e540-47ba-bdf3-f1c97dcc687b",
   "metadata": {},
   "outputs": [],
   "source": [
    "import matplotlib.pyplot as plt\n",
    "import numpy as np\n",
    "%matplotlib inline"
   ]
  },
  {
   "cell_type": "code",
   "execution_count": null,
   "id": "026cd57f-a05f-4a0e-97ca-7c8549b43adf",
   "metadata": {},
   "outputs": [],
   "source": [
    "x = np.linspace(0,2*np.pi, num=100)\n",
    "y = np.sin(x)\n",
    "plt.plot(x,y)\n",
    "plt"
   ]
  }
 ],
 "metadata": {
  "kernelspec": {
   "display_name": "Python 3 (ipykernel)",
   "language": "python",
   "name": "python3"
  },
  "language_info": {
   "codemirror_mode": {
    "name": "ipython",
    "version": 3
   },
   "file_extension": ".py",
   "mimetype": "text/x-python",
   "name": "python",
   "nbconvert_exporter": "python",
   "pygments_lexer": "ipython3",
   "version": "3.9.2"
  }
 },
 "nbformat": 4,
 "nbformat_minor": 5
}
