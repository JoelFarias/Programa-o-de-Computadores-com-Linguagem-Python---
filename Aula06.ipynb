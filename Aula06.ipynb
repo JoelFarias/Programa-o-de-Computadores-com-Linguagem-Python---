{
 "cells": [
  {
   "cell_type": "markdown",
   "id": "9ecb12ca-3efb-4db4-b350-61626d062046",
   "metadata": {},
   "source": [
    "# Aula 06\n",
    "\n",
    "<ul>\n",
    "    <li>Conceitos de Classes e Objetos</li>\n",
    "    <li>Numpy</li>\n",
    "    <li>Gráficos com a Matplotlib</li>\n",
    "<ul>"
   ]
  },
  {
   "cell_type": "markdown",
   "id": "dd56664b-c1e9-4076-8fe9-121117392807",
   "metadata": {},
   "source": [
    "## Orientação a Objetos"
   ]
  },
  {
   "cell_type": "code",
   "execution_count": null,
   "id": "54a71765-cbe0-472a-9769-a995ebd922e9",
   "metadata": {},
   "outputs": [],
   "source": [
    "# Classe\n",
    "class Teste(object):\n",
    "    def __init__(self):\n",
    "        self.qtd = 0\n",
    "\n",
    "    def mostrarQtd(self):\n",
    "        print(self.qtd)\n",
    "\n",
    "    def adicionarQtd(self):\n",
    "        self.qtd = self.qtd + 1"
   ]
  },
  {
   "cell_type": "code",
   "execution_count": null,
   "id": "06072e22-e1a5-4bb5-88a4-c584a7c24ee9",
   "metadata": {},
   "outputs": [],
   "source": [
    "# Objeto\n",
    "t = Teste()\n",
    "print(type(t))\n",
    "t.mostrarQtd()\n",
    "t.adicionarQtd()\n",
    "t.mostrarQtd()"
   ]
  },
  {
   "cell_type": "code",
   "execution_count": null,
   "id": "26f374e5-883d-4883-aafa-50c8113580c5",
   "metadata": {},
   "outputs": [],
   "source": [
    "t.adicionarQtd()\n",
    "t.adicionarQtd()\n",
    "t.mostrarQtd()"
   ]
  },
  {
   "cell_type": "code",
   "execution_count": null,
   "id": "3ab547c6-0c96-4b19-801e-110495c0057f",
   "metadata": {},
   "outputs": [],
   "source": [
    "class Circulo(object):\n",
    "    def __init__(self, raio, cor = 'blue'):\n",
    "        self.raio = raio\n",
    "        self.cor = cor\n",
    "\n",
    "    def adicionarRaio(self, r):\n",
    "        self.raio = self.raio + r\n",
    "\n",
    "    def desenhar(self):\n",
    "        plt.gca().add_patch(plt.Circle((0,0),radius = self.raio, fc = self.cor))\n",
    "        plt.axis('scaled')\n",
    "        plt.show()"
   ]
  },
  {
   "cell_type": "code",
   "execution_count": null,
   "id": "720d87f1-b49a-4f5c-b3ea-f03f96a9301e",
   "metadata": {},
   "outputs": [],
   "source": [
    "cA = Circulo(3, 'yellow')\n",
    "dir(cA)"
   ]
  },
  {
   "cell_type": "code",
   "execution_count": null,
   "id": "ab863ebb-36a1-4269-915d-5a78690b4924",
   "metadata": {},
   "outputs": [],
   "source": [
    "cA.adicionarRaio(3)"
   ]
  },
  {
   "cell_type": "code",
   "execution_count": null,
   "id": "eb398fae-937f-469a-b644-438f93cb19da",
   "metadata": {},
   "outputs": [],
   "source": [
    "cA.desenhar()"
   ]
  },
  {
   "cell_type": "code",
   "execution_count": null,
   "id": "cd572888-665c-450b-93c2-f0cc31c8e8f0",
   "metadata": {},
   "outputs": [],
   "source": [
    "import matplotlib.pyplot as plt"
   ]
  },
  {
   "cell_type": "code",
   "execution_count": null,
   "id": "4f22e59c-5cba-4c90-9df2-632fdbfdc312",
   "metadata": {},
   "outputs": [],
   "source": [
    "cA.desenharCirculo()"
   ]
  },
  {
   "cell_type": "code",
   "execution_count": null,
   "id": "52d18591-5984-4644-9667-7ece736464e0",
   "metadata": {},
   "outputs": [],
   "source": [
    "circAz = Circulo(4)\n",
    "circAz.desenharCirculo()"
   ]
  },
  {
   "cell_type": "code",
   "execution_count": null,
   "id": "e5c60652-b2a5-481a-8a7c-f0c8bec4504c",
   "metadata": {},
   "outputs": [],
   "source": [
    "def novo():\n",
    "    print(\"Variável\", __name__)\n",
    "\n",
    "novo()"
   ]
  },
  {
   "cell_type": "code",
   "execution_count": null,
   "id": "c10b8511-771c-49e7-ba25-4145c2e1d2b1",
   "metadata": {},
   "outputs": [],
   "source": [
    "with open(\"teste.py\", \"w\") as w:\n",
    "    w.write(\"def novo():\\n\")\n",
    "    w.write(\"    print('Variável:', __name__)\\n\")"
   ]
  },
  {
   "cell_type": "code",
   "execution_count": null,
   "id": "8047379d-8e5b-4514-803c-3acedfcf587d",
   "metadata": {},
   "outputs": [],
   "source": [
    "import teste as t"
   ]
  },
  {
   "cell_type": "code",
   "execution_count": null,
   "id": "b270ae39-fd90-4ad9-815c-2b06e7dc1108",
   "metadata": {},
   "outputs": [],
   "source": [
    "t.novo()"
   ]
  },
  {
   "cell_type": "code",
   "execution_count": null,
   "id": "62c58b2a-9450-4480-a24e-98b1b89de6a4",
   "metadata": {},
   "outputs": [],
   "source": [
    "def ola1():\n",
    "    print(\"Olá 1\")\n",
    "\n",
    "def ola2():\n",
    "    print(\"Olá 2\")\n",
    "\n",
    "def ola3():\n",
    "    print(\"Olá 3\")\n",
    "\n",
    "if __name__ == '__main__':\n",
    "    print(\"Show\")"
   ]
  },
  {
   "cell_type": "code",
   "execution_count": null,
   "id": "d0e40950-6cf2-43eb-a82b-86a4e1f4b17a",
   "metadata": {},
   "outputs": [],
   "source": [
    "import ola as o"
   ]
  },
  {
   "cell_type": "code",
   "execution_count": null,
   "id": "685acb9a-b305-436b-b1bb-3ab1dd4d2060",
   "metadata": {},
   "outputs": [],
   "source": [
    "dir(o)"
   ]
  },
  {
   "cell_type": "code",
   "execution_count": null,
   "id": "ce5e4a59-96a1-4491-bfd6-a198eece1d35",
   "metadata": {},
   "outputs": [],
   "source": []
  }
 ],
 "metadata": {
  "kernelspec": {
   "display_name": "Python 3 (ipykernel)",
   "language": "python",
   "name": "python3"
  },
  "language_info": {
   "codemirror_mode": {
    "name": "ipython",
    "version": 3
   },
   "file_extension": ".py",
   "mimetype": "text/x-python",
   "name": "python",
   "nbconvert_exporter": "python",
   "pygments_lexer": "ipython3",
   "version": "3.9.2"
  }
 },
 "nbformat": 4,
 "nbformat_minor": 5
}
