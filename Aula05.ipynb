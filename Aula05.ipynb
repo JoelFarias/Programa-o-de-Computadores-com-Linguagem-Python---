{
 "cells": [
  {
   "cell_type": "markdown",
   "id": "c3fc46cd-1e64-4c52-be81-b22803633799",
   "metadata": {},
   "source": [
    "# Aula 05"
   ]
  },
  {
   "cell_type": "markdown",
   "id": "a56d4bfe-8df0-4a79-83a5-fbdbd712bb1e",
   "metadata": {},
   "source": [
    "Revisão da aula passada:\n",
    "<ul>\n",
    "<li>Funções</li>\n",
    "<li>Lambda</li>\n",
    "<li>Map</li>\n",
    "<li>Reduce</li>\n",
    "</ul>"
   ]
  },
  {
   "cell_type": "markdown",
   "id": "f0d9f149-2756-4c11-a86e-ca40a53861e9",
   "metadata": {},
   "source": [
    "### Filter"
   ]
  },
  {
   "cell_type": "code",
   "execution_count": 4,
   "id": "26190a60-971b-4a1b-bbe3-1c13d8182bfb",
   "metadata": {},
   "outputs": [],
   "source": [
    "def verificaPar(num):\n",
    "    if num % 2 == 0:\n",
    "        return True\n",
    "    else:\n",
    "        return False"
   ]
  },
  {
   "cell_type": "code",
   "execution_count": 6,
   "id": "21a42d56-0f67-46b8-ba68-ba93b94204ca",
   "metadata": {},
   "outputs": [],
   "source": [
    "def verificaPar2(num):\n",
    "    return num % 2 == 0"
   ]
  },
  {
   "cell_type": "code",
   "execution_count": 2,
   "id": "b7860c6c-5535-4dc8-a53a-b63f2dd640f0",
   "metadata": {},
   "outputs": [],
   "source": [
    "lst = [23, 12, 34, 11, 76, 27, 39]"
   ]
  },
  {
   "cell_type": "code",
   "execution_count": 7,
   "id": "0ad5de28-1462-4b09-a88f-df3e03e889bb",
   "metadata": {},
   "outputs": [
    {
     "name": "stdout",
     "output_type": "stream",
     "text": [
      "[12, 34, 76]\n"
     ]
    }
   ],
   "source": [
    "print(list(filter(verificaPar2, lst)))"
   ]
  },
  {
   "cell_type": "code",
   "execution_count": 8,
   "id": "320ab65f-a90f-4dc3-8ea9-802bce1d3efc",
   "metadata": {},
   "outputs": [
    {
     "name": "stdout",
     "output_type": "stream",
     "text": [
      "[23, 34, 27, 39]\n"
     ]
    }
   ],
   "source": [
    "print(list(filter(lambda x: x > 20 and x < 50, lst)))"
   ]
  },
  {
   "cell_type": "markdown",
   "id": "b8e7d4db-6b14-41a7-93f8-aec06496166b",
   "metadata": {},
   "source": [
    "### List Comprehension"
   ]
  },
  {
   "cell_type": "code",
   "execution_count": 9,
   "id": "d28a9999-6a3d-4bd6-b47e-973cd2a79b25",
   "metadata": {},
   "outputs": [
    {
     "name": "stdout",
     "output_type": "stream",
     "text": [
      "['P', 'y', 't', 'h', 'o', 'n']\n"
     ]
    }
   ],
   "source": [
    "lst = [x for x in 'Python']\n",
    "print(lst)"
   ]
  },
  {
   "cell_type": "code",
   "execution_count": 10,
   "id": "457e6326-718c-4364-9871-7eb0f27f22ec",
   "metadata": {},
   "outputs": [
    {
     "name": "stdout",
     "output_type": "stream",
     "text": [
      "[0, 1, 4, 9, 16, 25, 36, 49, 64, 81, 100]\n"
     ]
    }
   ],
   "source": [
    "lst = [x**2 for x in range(0,11)]\n",
    "print(lst)"
   ]
  },
  {
   "cell_type": "code",
   "execution_count": 12,
   "id": "3304b4f4-559b-49fc-a25a-2621345f391d",
   "metadata": {},
   "outputs": [
    {
     "name": "stdout",
     "output_type": "stream",
     "text": [
      "[0, 2, 4, 6, 8, 10]\n"
     ]
    }
   ],
   "source": [
    "lst = [x for x in range(0,11) if x % 2 == 0]\n",
    "print(lst)"
   ]
  },
  {
   "cell_type": "code",
   "execution_count": 13,
   "id": "cf59ef80-52ae-4b69-a6f2-45f7aa2f5bb1",
   "metadata": {},
   "outputs": [
    {
     "name": "stdout",
     "output_type": "stream",
     "text": [
      "[0, 2, 4, 6, 8, 10]\n"
     ]
    }
   ],
   "source": [
    "lst = [x for x in range(0,11,2)]\n",
    "print(lst)"
   ]
  },
  {
   "cell_type": "code",
   "execution_count": 14,
   "id": "cb64b367-d3f2-47fa-933d-1db277293b6f",
   "metadata": {},
   "outputs": [
    {
     "name": "stdout",
     "output_type": "stream",
     "text": [
      "[0.0, 1.0, 2.0, 3.0]\n"
     ]
    }
   ],
   "source": [
    "lst = [x**(1/2) for x in [x**2 for x in range(4)]]\n",
    "print(lst)"
   ]
  },
  {
   "cell_type": "markdown",
   "id": "eecfa297-a49c-4ab9-b62a-f131e84d37cf",
   "metadata": {},
   "source": [
    "## Comando de Proteção"
   ]
  },
  {
   "cell_type": "code",
   "execution_count": 35,
   "id": "58d91f30-1ff5-42c0-b07e-47f0bc2cfa38",
   "metadata": {},
   "outputs": [
    {
     "name": "stdin",
     "output_type": "stream",
     "text": [
      "Informe um valor: 0\n"
     ]
    },
    {
     "name": "stdout",
     "output_type": "stream",
     "text": [
      "Aconteceu um erro de Divisão, valor padrão\n",
      "10\n"
     ]
    }
   ],
   "source": [
    "x = input(\"Informe um valor:\")\n",
    "\n",
    "try:\n",
    "    x = int(x)\n",
    "    x = x + 18 / x\n",
    "except ValueError:\n",
    "    print(\"Aconteceu um erro, valor padrão\")\n",
    "    x = 10\n",
    "except ZeroDivisionError:    \n",
    "    print(\"Aconteceu um erro de Divisão, valor padrão\")\n",
    "    x = 10\n",
    "\n",
    "print(x)"
   ]
  },
  {
   "cell_type": "code",
   "execution_count": 39,
   "id": "7eea2bdd-5017-444a-856f-f0a15d2176ba",
   "metadata": {},
   "outputs": [
    {
     "name": "stdin",
     "output_type": "stream",
     "text": [
      "Informe um valor: 0\n"
     ]
    },
    {
     "name": "stdout",
     "output_type": "stream",
     "text": [
      "Finalmente 0\n"
     ]
    },
    {
     "ename": "ZeroDivisionError",
     "evalue": "division by zero",
     "output_type": "error",
     "traceback": [
      "\u001b[0;31m---------------------------------------------------------------------------\u001b[0m",
      "\u001b[0;31mZeroDivisionError\u001b[0m                         Traceback (most recent call last)",
      "Cell \u001b[0;32mIn[39], line 5\u001b[0m\n\u001b[1;32m      3\u001b[0m \u001b[38;5;28;01mtry\u001b[39;00m:\n\u001b[1;32m      4\u001b[0m     x \u001b[38;5;241m=\u001b[39m \u001b[38;5;28mint\u001b[39m(x)\n\u001b[0;32m----> 5\u001b[0m     x \u001b[38;5;241m=\u001b[39m x \u001b[38;5;241m+\u001b[39m \u001b[38;5;241;43m18\u001b[39;49m\u001b[43m \u001b[49m\u001b[38;5;241;43m/\u001b[39;49m\u001b[43m \u001b[49m\u001b[43mx\u001b[49m\n\u001b[1;32m      6\u001b[0m \u001b[38;5;28;01mexcept\u001b[39;00m \u001b[38;5;167;01mValueError\u001b[39;00m:\n\u001b[1;32m      7\u001b[0m     \u001b[38;5;28mprint\u001b[39m(\u001b[38;5;124m\"\u001b[39m\u001b[38;5;124mAconteceu um erro, valor padrão\u001b[39m\u001b[38;5;124m\"\u001b[39m)\n",
      "\u001b[0;31mZeroDivisionError\u001b[0m: division by zero"
     ]
    }
   ],
   "source": [
    "x = input(\"Informe um valor:\")\n",
    "\n",
    "try:\n",
    "    x = int(x)\n",
    "    x = x + 18 / x\n",
    "except ValueError:\n",
    "    print(\"Aconteceu um erro, valor padrão\")\n",
    "    x = 10\n",
    "finally:\n",
    "    print(\"Finalmente\",x)"
   ]
  },
  {
   "cell_type": "code",
   "execution_count": 36,
   "id": "85a6fc36-b85d-4bbe-84f3-d92a76915c24",
   "metadata": {},
   "outputs": [
    {
     "name": "stdin",
     "output_type": "stream",
     "text": [
      "Informe um valor: 10\n"
     ]
    },
    {
     "name": "stdout",
     "output_type": "stream",
     "text": [
      "11.8\n"
     ]
    }
   ],
   "source": [
    "x = input(\"Informe um valor:\")\n",
    "\n",
    "x = int(x)\n",
    "x = x + 18 / x\n",
    "\n",
    "print(x)"
   ]
  },
  {
   "cell_type": "markdown",
   "id": "800c69ac-a83b-4659-901e-6700a6dc8c04",
   "metadata": {},
   "source": [
    "## Arquivos"
   ]
  },
  {
   "cell_type": "markdown",
   "id": "124bc961-4d5d-4514-9f3d-0e952b3707fa",
   "metadata": {},
   "source": [
    "Modos\n",
    "<ul>\n",
    "<li>r - leitura</li>\n",
    "<li>w - escrever</li>\n",
    "<li>a - adição</li>\n",
    "<li>r+ - leitura especial</li>\n",
    "<li>w+ - escrever especial</li>\n",
    "</ul>"
   ]
  },
  {
   "cell_type": "code",
   "execution_count": 55,
   "id": "9384d65d-3f3f-4f41-984c-fc5d4135b18c",
   "metadata": {},
   "outputs": [],
   "source": [
    "nomArq = \"exemplo01\"\n",
    "\n",
    "try:\n",
    "    arq1 = open(nomArq, \"w\")\n",
    "    arq1.write(\"Essa é uma primeiraA linha\\n\")\n",
    "    arq1.writelines(\"Essa é uma segunda linha\\n\")\n",
    "    arq1.write(\"Essa é uma terceira linha\\n\")\n",
    "    arq1.write(\"Essa é uma quarta linha\\n\")\n",
    "finally:\n",
    "    arq1.close()"
   ]
  },
  {
   "cell_type": "code",
   "execution_count": 64,
   "id": "c0f8d468-2b4d-4ffe-acee-50050e0a5b51",
   "metadata": {},
   "outputs": [
    {
     "name": "stdout",
     "output_type": "stream",
     "text": [
      "exemplo01\n",
      "r\n",
      "0\n",
      "Essa é uma primeiraA linha\n",
      "Essa é uma segunda linha\n",
      "Essa é uma terceira linha\n",
      "Essa é uma quarta linha\n",
      "\n",
      "106\n"
     ]
    }
   ],
   "source": [
    "arq1 = open(nomArq, \"r\")\n",
    "print(arq1.name)\n",
    "print(arq1.mode)\n",
    "print(arq1.tell()) # minha posição no arquivo\n",
    "print(arq1.read())\n",
    "print(arq1.tell())\n",
    "arq1.close()"
   ]
  },
  {
   "cell_type": "code",
   "execution_count": 65,
   "id": "3214fac2-8e82-41a5-9789-413fbe22d601",
   "metadata": {},
   "outputs": [
    {
     "name": "stdout",
     "output_type": "stream",
     "text": [
      "Essa é uma primeiraA linha\n",
      "Essa é uma segunda linha\n",
      "Essa é uma terceira linha\n",
      "Essa é uma quarta linha\n",
      "\n"
     ]
    }
   ],
   "source": [
    "with open(\"exemplo01\", \"r\") as arq1:\n",
    "    print(arq1.read())"
   ]
  },
  {
   "cell_type": "code",
   "execution_count": null,
   "id": "708631d8-4af5-4158-9e02-7987d9b9e9bc",
   "metadata": {},
   "outputs": [],
   "source": [
    "with open(\"exemplo01\", \"w\") as arq1:\n",
    "    arq1.write(\"Essa é uma primeiraA linha\\n\")\n",
    "    arq1.writelines(\"Essa é uma segunda linha\\n\")\n",
    "    arq1.write(\"Essa é uma terceira linha\\n\")\n",
    "    arq1.write(\"Essa é uma quarta linha\\n\")"
   ]
  },
  {
   "cell_type": "code",
   "execution_count": 67,
   "id": "59cfd2b2-f5cb-4a4f-ab32-167830525c3b",
   "metadata": {},
   "outputs": [
    {
     "name": "stdout",
     "output_type": "stream",
     "text": [
      "Essa é uma primeiraA linha\n",
      "Essa é uma segunda linha\n",
      "Essa é uma terceira linha\n",
      "Essa é uma quarta linha\n"
     ]
    }
   ],
   "source": [
    "with open(\"exemplo01\", \"r\") as arq1:\n",
    "    for lin in arq1.readlines():\n",
    "        print(lin, end=\"\")"
   ]
  },
  {
   "cell_type": "code",
   "execution_count": 69,
   "id": "6baf7863-74ef-4ceb-96df-5f09aebf650b",
   "metadata": {},
   "outputs": [],
   "source": [
    "with open(\"exemplo02\", \"w\") as arq2:\n",
    "    with open(\"exemplo01\", \"r\") as arq1:\n",
    "        ct = 0\n",
    "        for lin in arq1.readlines():\n",
    "            if \"primeiraA\" in lin:\n",
    "                arq2.write(\"Essa é uma primeira linha\\n\")\n",
    "            else:\n",
    "                arq2.write(lin)"
   ]
  },
  {
   "cell_type": "code",
   "execution_count": null,
   "id": "f73bccf1-3618-425c-b985-097abfbb075e",
   "metadata": {},
   "outputs": [],
   "source": []
  }
 ],
 "metadata": {
  "kernelspec": {
   "display_name": "Python 3 (ipykernel)",
   "language": "python",
   "name": "python3"
  },
  "language_info": {
   "codemirror_mode": {
    "name": "ipython",
    "version": 3
   },
   "file_extension": ".py",
   "mimetype": "text/x-python",
   "name": "python",
   "nbconvert_exporter": "python",
   "pygments_lexer": "ipython3",
   "version": "3.9.2"
  }
 },
 "nbformat": 4,
 "nbformat_minor": 5
}
