{
 "cells": [
  {
   "cell_type": "code",
   "execution_count": null,
   "id": "5d88f12c-20ad-4b5d-acf0-436d3382b9d5",
   "metadata": {},
   "outputs": [],
   "source": [
    "import pandas as pd"
   ]
  },
  {
   "cell_type": "code",
   "execution_count": null,
   "id": "dcbe8f27-9851-4466-8721-11c1039896c5",
   "metadata": {},
   "outputs": [],
   "source": [
    "df = pd.DataFrame({\n",
    "    'A': [1, 2, 3],\n",
    "    'B': [4, 5, 6]},\n",
    "    index=list('abc'))"
   ]
  },
  {
   "cell_type": "code",
   "execution_count": null,
   "id": "399b7ad0-2a06-4d3c-860e-0199de036617",
   "metadata": {},
   "outputs": [],
   "source": [
    "df.head()"
   ]
  },
  {
   "cell_type": "code",
   "execution_count": null,
   "id": "b82f09ff-4a28-408c-ae70-fcdba2bc045f",
   "metadata": {},
   "outputs": [],
   "source": [
    "df.to_csv('salvo.csv')"
   ]
  },
  {
   "cell_type": "code",
   "execution_count": null,
   "id": "845cd6ce-3c06-41d2-aa41-cd68ca03a680",
   "metadata": {},
   "outputs": [],
   "source": [
    "df2 = pd.read_csv('salvo.csv')"
   ]
  },
  {
   "cell_type": "code",
   "execution_count": null,
   "id": "1f283f2d-4949-477e-b753-259a77b3c37f",
   "metadata": {},
   "outputs": [],
   "source": [
    "df2.head()"
   ]
  },
  {
   "cell_type": "markdown",
   "id": "20da9c6a-9967-431b-a9fe-896ed9c6c9c9",
   "metadata": {},
   "source": [
    "## Lembrar o mundo..."
   ]
  },
  {
   "cell_type": "code",
   "execution_count": null,
   "id": "e4e8d68c-e741-412d-b1fb-f02facb34807",
   "metadata": {},
   "outputs": [],
   "source": [
    "def normal(n):\n",
    "    if n == 0:\n",
    "        return \"Ola\"\n",
    "\n",
    "print(normal(0))"
   ]
  },
  {
   "cell_type": "code",
   "execution_count": 5,
   "id": "fae9607b-fa97-4f7f-9368-ebaea3c5b970",
   "metadata": {},
   "outputs": [
    {
     "name": "stdout",
     "output_type": "stream",
     "text": [
      "4\n",
      "4\n",
      "f\n"
     ]
    }
   ],
   "source": [
    "y = 3\n",
    "\n",
    "def t():\n",
    "    y = 4\n",
    "    print(y)\n",
    "    y = y\n",
    "    print(y)\n",
    "\n",
    "t()\n",
    "print(y == 4 and \"v\" or \"f\")"
   ]
  },
  {
   "cell_type": "code",
   "execution_count": 8,
   "id": "1df0f474-0149-4804-8a9e-2c636d3ef795",
   "metadata": {},
   "outputs": [
    {
     "ename": "RecursionError",
     "evalue": "maximum recursion depth exceeded",
     "output_type": "error",
     "traceback": [
      "\u001b[0;31m---------------------------------------------------------------------------\u001b[0m",
      "\u001b[0;31mRecursionError\u001b[0m                            Traceback (most recent call last)",
      "Cell \u001b[0;32mIn[8], line 7\u001b[0m\n\u001b[1;32m      3\u001b[0m \u001b[38;5;28;01mdef\u001b[39;00m \u001b[38;5;21mt\u001b[39m():\n\u001b[1;32m      4\u001b[0m     \u001b[38;5;66;03m# x += 1\u001b[39;00m\n\u001b[1;32m      5\u001b[0m     \u001b[38;5;28;01mreturn\u001b[39;00m t()\n\u001b[0;32m----> 7\u001b[0m \u001b[43mt\u001b[49m\u001b[43m(\u001b[49m\u001b[43m)\u001b[49m\n\u001b[1;32m      8\u001b[0m \u001b[38;5;28mprint\u001b[39m(\u001b[38;5;124m\"\u001b[39m\u001b[38;5;124mTerminei:\u001b[39m\u001b[38;5;124m\"\u001b[39m,x)\n",
      "Cell \u001b[0;32mIn[8], line 5\u001b[0m, in \u001b[0;36mt\u001b[0;34m()\u001b[0m\n\u001b[1;32m      3\u001b[0m \u001b[38;5;28;01mdef\u001b[39;00m \u001b[38;5;21mt\u001b[39m():\n\u001b[1;32m      4\u001b[0m     \u001b[38;5;66;03m# x += 1\u001b[39;00m\n\u001b[0;32m----> 5\u001b[0m     \u001b[38;5;28;01mreturn\u001b[39;00m \u001b[43mt\u001b[49m\u001b[43m(\u001b[49m\u001b[43m)\u001b[49m\n",
      "Cell \u001b[0;32mIn[8], line 5\u001b[0m, in \u001b[0;36mt\u001b[0;34m()\u001b[0m\n\u001b[1;32m      3\u001b[0m \u001b[38;5;28;01mdef\u001b[39;00m \u001b[38;5;21mt\u001b[39m():\n\u001b[1;32m      4\u001b[0m     \u001b[38;5;66;03m# x += 1\u001b[39;00m\n\u001b[0;32m----> 5\u001b[0m     \u001b[38;5;28;01mreturn\u001b[39;00m \u001b[43mt\u001b[49m\u001b[43m(\u001b[49m\u001b[43m)\u001b[49m\n",
      "    \u001b[0;31m[... skipping similar frames: t at line 5 (2970 times)]\u001b[0m\n",
      "Cell \u001b[0;32mIn[8], line 5\u001b[0m, in \u001b[0;36mt\u001b[0;34m()\u001b[0m\n\u001b[1;32m      3\u001b[0m \u001b[38;5;28;01mdef\u001b[39;00m \u001b[38;5;21mt\u001b[39m():\n\u001b[1;32m      4\u001b[0m     \u001b[38;5;66;03m# x += 1\u001b[39;00m\n\u001b[0;32m----> 5\u001b[0m     \u001b[38;5;28;01mreturn\u001b[39;00m \u001b[43mt\u001b[49m\u001b[43m(\u001b[49m\u001b[43m)\u001b[49m\n",
      "\u001b[0;31mRecursionError\u001b[0m: maximum recursion depth exceeded"
     ]
    }
   ],
   "source": [
    "x = 0\n",
    "\n",
    "def t():\n",
    "    # x += 1\n",
    "    return t()\n",
    "\n",
    "t()\n",
    "print(\"Terminei:\",x)"
   ]
  },
  {
   "cell_type": "code",
   "execution_count": 21,
   "id": "1eceeb88-17b3-4986-8597-b5c8744f7990",
   "metadata": {},
   "outputs": [
    {
     "name": "stdout",
     "output_type": "stream",
     "text": [
      "8\n"
     ]
    }
   ],
   "source": [
    "q = lambda x,y: x**y;\n",
    "\n",
    "print(q(2,3));"
   ]
  },
  {
   "cell_type": "code",
   "execution_count": 24,
   "id": "c0cc6f08-9432-4dbe-af53-e25cf6f451c1",
   "metadata": {},
   "outputs": [
    {
     "name": "stdout",
     "output_type": "stream",
     "text": [
      "7654Oi\n"
     ]
    }
   ],
   "source": [
    "for v in range(7,3,-1):\n",
    "    print(v,end=\"\")\n",
    "\n",
    "if v == 4:\n",
    "    print(\"Oi\");"
   ]
  },
  {
   "cell_type": "code",
   "execution_count": 26,
   "id": "2d5d3249-e516-47cb-b247-d400828bd02e",
   "metadata": {},
   "outputs": [
    {
     "name": "stdout",
     "output_type": "stream",
     "text": [
      "OláOláOi\n",
      "Oi2"
     ]
    }
   ],
   "source": [
    "for i in range(1,3):\n",
    "    print(\"Olá\",end=\"\");\n",
    "print(\"Oi\");\n",
    "print(\"Oi2\",end=\"\")"
   ]
  },
  {
   "cell_type": "markdown",
   "id": "789c31d6-9a5f-4327-8ce9-22642b563ca6",
   "metadata": {},
   "source": [
    "### List Comprehension"
   ]
  },
  {
   "cell_type": "code",
   "execution_count": 28,
   "id": "7f580a82-d447-40e0-b4cf-55cc13f50267",
   "metadata": {},
   "outputs": [
    {
     "name": "stdout",
     "output_type": "stream",
     "text": [
      "['P', 'y', 't', 'h', 'o', 'n']\n"
     ]
    }
   ],
   "source": [
    "print([x for x in 'Python'])"
   ]
  },
  {
   "cell_type": "code",
   "execution_count": 29,
   "id": "d6ed9c3e-b3ed-46f9-a498-8e96004ec6ca",
   "metadata": {},
   "outputs": [],
   "source": [
    "import numpy as np"
   ]
  },
  {
   "cell_type": "code",
   "execution_count": 32,
   "id": "76ceefed-f14a-4f9b-b23e-62b63219a79c",
   "metadata": {},
   "outputs": [
    {
     "name": "stdout",
     "output_type": "stream",
     "text": [
      "1.4111883712180104\n"
     ]
    }
   ],
   "source": [
    "a = 0\n",
    "for i in [np.sin(x) for x in range(0,11)]:\n",
    "    a += i\n",
    "print(a)"
   ]
  },
  {
   "cell_type": "code",
   "execution_count": 33,
   "id": "9c98ed19-67f2-4207-a6dc-7d96e56141d8",
   "metadata": {},
   "outputs": [
    {
     "name": "stdout",
     "output_type": "stream",
     "text": [
      "[0, 1, 16, 81, 256, 625, 1296, 2401, 4096, 6561, 10000]\n"
     ]
    }
   ],
   "source": [
    "print([x**2 for x in [x**2 for x in range(11)]])"
   ]
  },
  {
   "cell_type": "code",
   "execution_count": 47,
   "id": "d3310674-090f-4790-8a93-f8d7f91c9660",
   "metadata": {},
   "outputs": [
    {
     "name": "stdout",
     "output_type": "stream",
     "text": [
      "ABD"
     ]
    }
   ],
   "source": [
    "def x():\n",
    "    try:\n",
    "        x = \"5\"\n",
    "        print('A',end=\"\")\n",
    "        x = float(x)\n",
    "        x = 10/x\n",
    "        print('B',end=\"\")\n",
    "        return\n",
    "    except ValueError:\n",
    "        print('C',end=\"\")\n",
    "    finally:\n",
    "        print('D',end=\"\")\n",
    "    print('E',end=\"\")    \n",
    "\n",
    "x()"
   ]
  },
  {
   "cell_type": "code",
   "execution_count": 46,
   "id": "c9d38d14-13eb-4308-880e-9eee4583403f",
   "metadata": {},
   "outputs": [
    {
     "name": "stdout",
     "output_type": "stream",
     "text": [
      "Escapei\n"
     ]
    }
   ],
   "source": [
    "def x():\n",
    "    a = 2\n",
    "    if (a == 2):\n",
    "        print(\"Escapei\")\n",
    "        return\n",
    "    print(a)\n",
    "\n",
    "x()"
   ]
  },
  {
   "cell_type": "code",
   "execution_count": null,
   "id": "9be0ad58-a8c5-4f1a-b1ff-5d1b9632d6a1",
   "metadata": {},
   "outputs": [],
   "source": []
  }
 ],
 "metadata": {
  "kernelspec": {
   "display_name": "Python 3 (ipykernel)",
   "language": "python",
   "name": "python3"
  },
  "language_info": {
   "codemirror_mode": {
    "name": "ipython",
    "version": 3
   },
   "file_extension": ".py",
   "mimetype": "text/x-python",
   "name": "python",
   "nbconvert_exporter": "python",
   "pygments_lexer": "ipython3",
   "version": "3.9.2"
  }
 },
 "nbformat": 4,
 "nbformat_minor": 5
}
