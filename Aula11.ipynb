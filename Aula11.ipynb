{
 "cells": [
  {
   "cell_type": "markdown",
   "id": "d83ee2dc-e16f-4312-b268-203c358ff568",
   "metadata": {},
   "source": [
    "# Aula 11 - MySQL e Joins com Pandas"
   ]
  },
  {
   "cell_type": "markdown",
   "id": "d05ebe6f-0fdd-476b-b48c-6ecc11bc93ee",
   "metadata": {},
   "source": [
    "!pip install mysql-connector-python"
   ]
  },
  {
   "cell_type": "code",
   "execution_count": null,
   "id": "09a2fea1-6b45-494c-be9d-19b17d323e27",
   "metadata": {},
   "outputs": [],
   "source": [
    "import mysql.connector"
   ]
  },
  {
   "cell_type": "code",
   "execution_count": null,
   "id": "743b90ee-44b9-4527-8253-1eca39915864",
   "metadata": {},
   "outputs": [],
   "source": [
    "con = mysql.connector.connect(\n",
    "    host='localhost',\n",
    "    user='root',\n",
    "    password='root',\n",
    "    database=''\n",
    ")    "
   ]
  },
  {
   "cell_type": "code",
   "execution_count": null,
   "id": "8c48d25c-6aba-4f98-9638-8d6d7acc0e35",
   "metadata": {},
   "outputs": [],
   "source": [
    "cursor = con.cursor()"
   ]
  },
  {
   "cell_type": "code",
   "execution_count": null,
   "id": "2a2488e7-ee26-4b10-b92f-95bf2c0cda95",
   "metadata": {},
   "outputs": [],
   "source": [
    "cursor.execute('create database facebook')"
   ]
  },
  {
   "cell_type": "code",
   "execution_count": null,
   "id": "02b410df-f200-48a5-b5a4-f5be0c45fd99",
   "metadata": {},
   "outputs": [],
   "source": [
    "con.close()"
   ]
  },
  {
   "cell_type": "code",
   "execution_count": null,
   "id": "cb80a4fd-4237-4dd3-97a5-de539428b530",
   "metadata": {},
   "outputs": [],
   "source": [
    "con = mysql.connector.connect(\n",
    "    host='localhost',\n",
    "    user='root',\n",
    "    password='root',\n",
    "    database='facebook'\n",
    ") "
   ]
  },
  {
   "cell_type": "code",
   "execution_count": null,
   "id": "e800db79-ff4c-4af1-9510-cd80cf23ce9f",
   "metadata": {},
   "outputs": [],
   "source": [
    "cursor = con.cursor()"
   ]
  },
  {
   "cell_type": "markdown",
   "id": "db775df6-fb51-4fdb-b267-63133f0e6a14",
   "metadata": {},
   "source": [
    "### Levar para o Pandas"
   ]
  },
  {
   "cell_type": "code",
   "execution_count": null,
   "id": "d9641483-51e4-431d-a972-a9edc3b56464",
   "metadata": {},
   "outputs": [],
   "source": [
    "cursor.execute(\"SELECT * FROM funcionario\")"
   ]
  },
  {
   "cell_type": "code",
   "execution_count": null,
   "id": "f23b7a63-35c8-4c4a-8a11-bc3b4d94ad5d",
   "metadata": {},
   "outputs": [],
   "source": [
    "res = cursor.fetchall()"
   ]
  },
  {
   "cell_type": "code",
   "execution_count": null,
   "id": "00b22171-1393-4361-adb0-182ff6d3b54f",
   "metadata": {},
   "outputs": [],
   "source": [
    "for reg in res:\n",
    "    print(reg)"
   ]
  },
  {
   "cell_type": "code",
   "execution_count": null,
   "id": "75e7cc7c-b7b4-4071-9a77-acfac92d16f3",
   "metadata": {},
   "outputs": [],
   "source": [
    "import pandas as pd\n",
    "import numpy as np"
   ]
  },
  {
   "cell_type": "code",
   "execution_count": null,
   "id": "3eb10ef9-d83f-4c83-b6b4-4558280abf7f",
   "metadata": {},
   "outputs": [],
   "source": [
    "dfFunc = pd.DataFrame(res, columns=[i[0] for i in cursor.description])"
   ]
  },
  {
   "cell_type": "code",
   "execution_count": null,
   "id": "ed75520a-0ec4-4a2e-a3f0-2fb67bd0c73b",
   "metadata": {},
   "outputs": [],
   "source": [
    "dfFunc.head()"
   ]
  },
  {
   "cell_type": "code",
   "execution_count": null,
   "id": "dc71fb24-0d43-4e85-b6c4-b52721ce5cc8",
   "metadata": {},
   "outputs": [],
   "source": [
    "cursor.description"
   ]
  },
  {
   "cell_type": "code",
   "execution_count": null,
   "id": "e9061e0d-46fe-48d0-a958-0aebd19eafc0",
   "metadata": {},
   "outputs": [],
   "source": [
    "dfFunc.info()"
   ]
  },
  {
   "cell_type": "code",
   "execution_count": null,
   "id": "3d726a1b-c8e1-496f-9f70-aefea12d8d1f",
   "metadata": {},
   "outputs": [],
   "source": [
    "dfFunc['prinome'] = dfFunc['prinome'].astype(pd.StringDtype())\n",
    "dfFunc['ultnome'] = dfFunc['ultnome'].astype(pd.StringDtype())\n",
    "# astype(bool)"
   ]
  },
  {
   "cell_type": "code",
   "execution_count": null,
   "id": "f042530c-3baf-457a-89ef-03b00c6945a2",
   "metadata": {},
   "outputs": [],
   "source": [
    "dfFunc.info()"
   ]
  },
  {
   "cell_type": "code",
   "execution_count": null,
   "id": "57721297-617c-489d-b026-e372ddb31a4b",
   "metadata": {},
   "outputs": [],
   "source": [
    "cursor.execute(\"SELECT * FROM departamento\")"
   ]
  },
  {
   "cell_type": "code",
   "execution_count": null,
   "id": "48db952c-4044-47b3-8b58-80fb320c1928",
   "metadata": {},
   "outputs": [],
   "source": [
    "res = cursor.fetchall()"
   ]
  },
  {
   "cell_type": "code",
   "execution_count": null,
   "id": "6feec77d-a29d-469c-b9c6-3d3ac463c961",
   "metadata": {},
   "outputs": [],
   "source": [
    "dfDept = pd.DataFrame(res, columns=[i[0] for i in cursor.description])"
   ]
  },
  {
   "cell_type": "code",
   "execution_count": null,
   "id": "c6e2d2c7-79e2-4038-8233-56c649498ccc",
   "metadata": {},
   "outputs": [],
   "source": [
    "dfDept.head()"
   ]
  },
  {
   "cell_type": "code",
   "execution_count": null,
   "id": "320513bf-a5e8-4c6c-b15f-cae57d7ede4a",
   "metadata": {},
   "outputs": [],
   "source": [
    "dfDept.info()"
   ]
  },
  {
   "cell_type": "code",
   "execution_count": null,
   "id": "33e0f95f-ef36-49e4-a3ba-eae172c47752",
   "metadata": {},
   "outputs": [],
   "source": [
    "dfDept['nomDep'] = dfDept['nomDep'].astype(pd.StringDtype())"
   ]
  },
  {
   "cell_type": "markdown",
   "id": "7e38ecc6-9d2d-4ea9-9e89-1bf97a2ed0dd",
   "metadata": {},
   "source": [
    "### INNER JOIN\n",
    "inner left join <br>\n",
    "inner right join"
   ]
  },
  {
   "cell_type": "code",
   "execution_count": null,
   "id": "263761a2-267c-4a2b-8269-a44f7ec5391e",
   "metadata": {},
   "outputs": [],
   "source": [
    "innerm = pd.merge(dfFunc, dfDept, left_on='codDep', right_on='codDep', how='inner')"
   ]
  },
  {
   "cell_type": "code",
   "execution_count": null,
   "id": "0e3225c1-c048-45cd-9573-295ccfe7d122",
   "metadata": {},
   "outputs": [],
   "source": [
    "innerm.head(10)"
   ]
  },
  {
   "cell_type": "markdown",
   "id": "77a41824-8d75-4743-b3e5-19bef762137b",
   "metadata": {},
   "source": [
    "### OUTER JOIN\n",
    "Full Outer Join"
   ]
  },
  {
   "cell_type": "code",
   "execution_count": null,
   "id": "20ff40bf-4060-4add-998f-558e0e4bde65",
   "metadata": {},
   "outputs": [],
   "source": [
    "outerm = pd.merge(dfFunc, dfDept, left_on='codDep', right_on='codDep', how='outer')"
   ]
  },
  {
   "cell_type": "code",
   "execution_count": null,
   "id": "520c828f-ea30-44fd-b667-29a34f995fd2",
   "metadata": {},
   "outputs": [],
   "source": [
    "outerm.head(10)"
   ]
  },
  {
   "cell_type": "markdown",
   "id": "48a11552-a3cd-44b1-9a59-347a069cf76c",
   "metadata": {},
   "source": [
    "## LEFT OUTER JOIN\n",
    "Left Join"
   ]
  },
  {
   "cell_type": "code",
   "execution_count": null,
   "id": "88cb751c-c2b4-4aca-b7bb-a42061ea7ade",
   "metadata": {},
   "outputs": [],
   "source": [
    "leftm = pd.merge(dfFunc, dfDept, left_on='codDep', right_on='codDep', how='left')"
   ]
  },
  {
   "cell_type": "code",
   "execution_count": null,
   "id": "01065cf2-e71a-44fa-9e14-44d74e063220",
   "metadata": {},
   "outputs": [],
   "source": [
    "leftm.head(10)"
   ]
  },
  {
   "cell_type": "markdown",
   "id": "5c98e810-965f-4b2c-8369-8057172c587f",
   "metadata": {},
   "source": [
    "## Right Outer Join\n",
    "Right Join"
   ]
  },
  {
   "cell_type": "code",
   "execution_count": null,
   "id": "5483bb61-c8bd-42e5-b669-296518cde1f9",
   "metadata": {},
   "outputs": [],
   "source": [
    "rightm = pd.merge(dfFunc, dfDept, left_on='codDep', right_on='codDep', how='right')"
   ]
  },
  {
   "cell_type": "code",
   "execution_count": null,
   "id": "887eeb2c-5074-4a2a-9ce2-a77b35caddf8",
   "metadata": {},
   "outputs": [],
   "source": [
    "rightm.head(10)"
   ]
  },
  {
   "cell_type": "code",
   "execution_count": null,
   "id": "ca523a67-ea7f-43d1-8887-64e00c67fd43",
   "metadata": {},
   "outputs": [],
   "source": [
    "cursor.close()\n",
    "con.close()"
   ]
  },
  {
   "cell_type": "markdown",
   "id": "93f55b3e-8d51-4766-b4fd-61fcc38fb4fa",
   "metadata": {},
   "source": [
    "## Postgres"
   ]
  },
  {
   "cell_type": "code",
   "execution_count": null,
   "id": "0524f6bf-a4ec-42c7-9488-7d140f9559a9",
   "metadata": {},
   "outputs": [],
   "source": [
    "# Instalar biblioteca\n",
    "# !pip install psycopg2"
   ]
  },
  {
   "cell_type": "code",
   "execution_count": 1,
   "id": "a43283c5-6532-4888-bd5d-703d0a78b957",
   "metadata": {},
   "outputs": [],
   "source": [
    "import psycopg2"
   ]
  },
  {
   "cell_type": "code",
   "execution_count": 16,
   "id": "95774c44-833a-4723-b613-56b71ba10e44",
   "metadata": {},
   "outputs": [],
   "source": [
    "con = psycopg2.connect(\n",
    "    host='localhost',\n",
    "    port=5432,\n",
    "    dbname='iesb',\n",
    "    user='postgres',\n",
    "    password='postgres'\n",
    ")"
   ]
  },
  {
   "cell_type": "code",
   "execution_count": 17,
   "id": "db94d81e-d624-44bc-bca4-669907378d27",
   "metadata": {},
   "outputs": [],
   "source": [
    "cur = con.cursor()"
   ]
  },
  {
   "cell_type": "code",
   "execution_count": 18,
   "id": "dca6e8f5-40d5-401c-9c9b-cc616c861723",
   "metadata": {},
   "outputs": [],
   "source": [
    "cur.execute(\"select * from piiv.carcus\")"
   ]
  },
  {
   "cell_type": "code",
   "execution_count": 19,
   "id": "7eb3845a-f0ac-469c-9f21-5220dfe31ce1",
   "metadata": {},
   "outputs": [],
   "source": [
    "rs = cur.fetchall()"
   ]
  },
  {
   "cell_type": "code",
   "execution_count": 20,
   "id": "0e3c838c-d078-4c88-835c-431be1a71cc1",
   "metadata": {},
   "outputs": [
    {
     "name": "stdout",
     "output_type": "stream",
     "text": [
      "('Ford F-150', 'William')\n",
      "('Ford F-150', 'William')\n",
      "('Ford Mustang', 'David')\n",
      "('Toyota Prius', 'Richard')\n",
      "('Ford Mustang', 'David')\n",
      "('Toyota Prius', 'Richard')\n",
      "('Caravan', 'William')\n"
     ]
    }
   ],
   "source": [
    "for lin in rs:\n",
    "    print(lin)"
   ]
  },
  {
   "cell_type": "code",
   "execution_count": 13,
   "id": "285c71fd-024f-4c22-ab9a-65da5ce0b977",
   "metadata": {},
   "outputs": [],
   "source": [
    "cur.execute(\"CREATE SCHEMA empresa\")"
   ]
  },
  {
   "cell_type": "code",
   "execution_count": 14,
   "id": "0bf59600-5e5c-4a83-8ab1-2c2fbda17ce1",
   "metadata": {},
   "outputs": [],
   "source": [
    "con.commit()"
   ]
  },
  {
   "cell_type": "code",
   "execution_count": 21,
   "id": "afddbb02-c713-4238-aa1b-31d1f7fcc63e",
   "metadata": {},
   "outputs": [],
   "source": [
    "cur.execute('CREATE TABLE empresa.vendas (id SERIAL PRIMARY KEY, data_venda date)')\n",
    "con.commit()"
   ]
  },
  {
   "cell_type": "markdown",
   "id": "d1060205-eed7-4fa0-be1c-a5d378c475d4",
   "metadata": {},
   "source": [
    "### Gerar Dados"
   ]
  },
  {
   "cell_type": "code",
   "execution_count": 22,
   "id": "dad0bab1-09ed-416d-8e0a-718f167fff65",
   "metadata": {},
   "outputs": [],
   "source": [
    "import random"
   ]
  },
  {
   "cell_type": "code",
   "execution_count": 26,
   "id": "31145c50-5817-40e9-95bb-7a930d0e5e59",
   "metadata": {},
   "outputs": [],
   "source": [
    "j = 0\n",
    "con.commit()\n",
    "for i in range(1,10000):\n",
    "    mes = (int)(random.random()*12+1)\n",
    "    mes = str(mes)\n",
    "    if len(mes) < 2:\n",
    "        mes = '0' + mes\n",
    "    dia = (int)(random.random()*28+1)\n",
    "    dia = str(dia)\n",
    "    if len(dia) < 2:\n",
    "        dia = '0' + dia\n",
    "    cur.execute(\"INSERT INTO empresa.vendas (data_venda) VALUES ('2023/\"+mes+\"/\"+dia+\"')\")\n",
    "    j += 1\n",
    "    if (j > 100):\n",
    "        con.commit()\n",
    "        j = 0\n",
    "con.commit()"
   ]
  },
  {
   "cell_type": "code",
   "execution_count": null,
   "id": "7f91095e-7ee3-43b6-bb61-1b595d823324",
   "metadata": {},
   "outputs": [],
   "source": []
  }
 ],
 "metadata": {
  "kernelspec": {
   "display_name": "Python 3 (ipykernel)",
   "language": "python",
   "name": "python3"
  },
  "language_info": {
   "codemirror_mode": {
    "name": "ipython",
    "version": 3
   },
   "file_extension": ".py",
   "mimetype": "text/x-python",
   "name": "python",
   "nbconvert_exporter": "python",
   "pygments_lexer": "ipython3",
   "version": "3.9.2"
  }
 },
 "nbformat": 4,
 "nbformat_minor": 5
}
