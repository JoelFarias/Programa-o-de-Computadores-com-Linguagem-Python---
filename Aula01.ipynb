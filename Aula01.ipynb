{
 "cells": [
  {
   "cell_type": "markdown",
   "id": "acd5f239-ad5c-4497-a4e5-3fe6571b71ce",
   "metadata": {},
   "source": [
    "# Aula 01 - Python"
   ]
  },
  {
   "cell_type": "markdown",
   "id": "799f47cc-cb03-49c1-b9e9-f52269cc283a",
   "metadata": {},
   "source": [
    "## Tipos Primitivos"
   ]
  },
  {
   "cell_type": "code",
   "execution_count": 2,
   "id": "5632e3b6-be39-4f4a-9e90-4ef10222e4be",
   "metadata": {},
   "outputs": [],
   "source": [
    "i = 10        # inteiro\n",
    "s = \"string\"  # String\n",
    "f = 10.3      # Numérico flutuante\n",
    "b = True      # Booleano (False)"
   ]
  },
  {
   "cell_type": "code",
   "execution_count": 7,
   "id": "9dd92899-3be3-4497-8c12-9805c4c66c5c",
   "metadata": {},
   "outputs": [
    {
     "data": {
      "text/plain": [
       "int"
      ]
     },
     "execution_count": 7,
     "metadata": {},
     "output_type": "execute_result"
    }
   ],
   "source": [
    "type(i)"
   ]
  },
  {
   "cell_type": "code",
   "execution_count": 8,
   "id": "978d44a1-5270-4354-aa3f-dccfbbdab54f",
   "metadata": {},
   "outputs": [],
   "source": [
    "# Tipos Inteiros\n",
    "i1 = 99     # Decimal 0 a 9\n",
    "i2 = 0xFAC  # Hexadecimal 0 a 9 e A a F\n",
    "i3 = 0o715  # Octal 0 a 7\n",
    "i4 = 0b010  # Binária 0 a 1\n",
    "\n",
    "# Tipos Flutuantes\n",
    "f1 = 12.03  # Real\n",
    "f2 = 1.3e2  # Notação Científica\n",
    "f3 = 3.14j  # Complexo\n",
    "\n",
    "# Tipos Strings\n",
    "s1 = \"Teste\"\n",
    "s2 = 'Teste'\n",
    "s3 = \"\"\"\n",
    "Teste\n",
    "\"\"\"\n",
    "s4 = '''\n",
    "Teste\n",
    "'''"
   ]
  },
  {
   "cell_type": "markdown",
   "id": "85e82f6f-b15f-46e2-8018-b92d06fd7c13",
   "metadata": {},
   "source": [
    "### Saídas de Informação"
   ]
  },
  {
   "cell_type": "code",
   "execution_count": 9,
   "id": "5f54eb55-9cbf-43df-88b8-170fdd502416",
   "metadata": {},
   "outputs": [
    {
     "name": "stdout",
     "output_type": "stream",
     "text": [
      "True\n"
     ]
    }
   ],
   "source": [
    "x = 3\n",
    "b = x == 3\n",
    "\n",
    "print(b)"
   ]
  },
  {
   "cell_type": "code",
   "execution_count": 18,
   "id": "d27168fc-acd5-4636-8eb4-51b462029124",
   "metadata": {},
   "outputs": [
    {
     "name": "stdout",
     "output_type": "stream",
     "text": [
      "Teste 13.3\n"
     ]
    }
   ],
   "source": [
    "a = \"Teste\"\n",
    "b = 10.3\n",
    "c = 3\n",
    "print(a, b + c)"
   ]
  },
  {
   "cell_type": "markdown",
   "id": "fa102ebd-67c8-416e-a8ac-82a7278cd7b4",
   "metadata": {},
   "source": [
    "### Casting - Conversão"
   ]
  },
  {
   "cell_type": "code",
   "execution_count": 32,
   "id": "186bb4df-8c9c-491e-9216-c3c09ec34054",
   "metadata": {},
   "outputs": [
    {
     "name": "stdout",
     "output_type": "stream",
     "text": [
      "<class 'float'>\n",
      "False\n",
      "1281\n"
     ]
    }
   ],
   "source": [
    "a = \"10.3\"\n",
    "b = float(a)\n",
    "print(type(b))\n",
    "\n",
    "c = \"\"\n",
    "b1 = bool(c)\n",
    "print(b1)\n",
    "\n",
    "b = 0x501\n",
    "b2 = str(b)\n",
    "print(b2)"
   ]
  },
  {
   "cell_type": "code",
   "execution_count": 33,
   "id": "d7da81ea-934e-4618-8642-747ec946e41e",
   "metadata": {},
   "outputs": [],
   "source": [
    "a = \"asc\"\n",
    "a = 10\n",
    "a = False\n",
    "a = 10.3\n",
    "del(a)"
   ]
  },
  {
   "cell_type": "code",
   "execution_count": 42,
   "id": "a1022f20-a2c2-46f1-91e4-98aad3f4d311",
   "metadata": {},
   "outputs": [
    {
     "name": "stdout",
     "output_type": "stream",
     "text": [
      "Ola sou uma \\\\' \" tabulação\n"
     ]
    }
   ],
   "source": [
    "print(\"Ola sou uma \\\\\\\\' \\\" tabulação\")"
   ]
  },
  {
   "cell_type": "markdown",
   "id": "c24f19e4-4f39-4eb0-b788-2e0920036db5",
   "metadata": {},
   "source": [
    "### Entrada de Dados"
   ]
  },
  {
   "cell_type": "code",
   "execution_count": 47,
   "id": "0ed1114b-b199-4e88-8b64-31c816cfc8a2",
   "metadata": {},
   "outputs": [
    {
     "name": "stdin",
     "output_type": "stream",
     "text": [
      "Informe sua idade 4.5\n"
     ]
    },
    {
     "ename": "ValueError",
     "evalue": "invalid literal for int() with base 10: '4.5'",
     "output_type": "error",
     "traceback": [
      "\u001b[0;31m---------------------------------------------------------------------------\u001b[0m",
      "\u001b[0;31mValueError\u001b[0m                                Traceback (most recent call last)",
      "Cell \u001b[0;32mIn[47], line 2\u001b[0m\n\u001b[1;32m      1\u001b[0m a \u001b[38;5;241m=\u001b[39m \u001b[38;5;28minput\u001b[39m(\u001b[38;5;124m\"\u001b[39m\u001b[38;5;124mInforme sua idade\u001b[39m\u001b[38;5;124m\"\u001b[39m)\n\u001b[0;32m----> 2\u001b[0m a \u001b[38;5;241m=\u001b[39m \u001b[38;5;28;43mint\u001b[39;49m\u001b[43m(\u001b[49m\u001b[43ma\u001b[49m\u001b[43m)\u001b[49m\n\u001b[1;32m      4\u001b[0m a \u001b[38;5;241m=\u001b[39m \u001b[38;5;28mint\u001b[39m(\u001b[38;5;28minput\u001b[39m(\u001b[38;5;124m\"\u001b[39m\u001b[38;5;124mOla\u001b[39m\u001b[38;5;124m\"\u001b[39m))\n\u001b[1;32m      5\u001b[0m \u001b[38;5;28mprint\u001b[39m(a)\n",
      "\u001b[0;31mValueError\u001b[0m: invalid literal for int() with base 10: '4.5'"
     ]
    }
   ],
   "source": [
    "a = input(\"Informe sua idade\")\n",
    "a = int(a)\n",
    "\n",
    "a = int(input(\"Ola\"))\n",
    "print(a)\n",
    "print(type(a))"
   ]
  },
  {
   "cell_type": "code",
   "execution_count": 58,
   "id": "698f3a78-76e9-445d-a770-f58e4155e5ee",
   "metadata": {},
   "outputs": [
    {
     "name": "stdout",
     "output_type": "stream",
     "text": [
      "i\n",
      "icle\n",
      "il\n",
      "iilt\n",
      "elci\n",
      "atelciciB\n"
     ]
    }
   ],
   "source": [
    "# Slicing\n",
    "a = \"Bicicleta\"\n",
    "print(a[3])\n",
    "print(a[3:7])\n",
    "print(a[3:7:2])\n",
    "print(a[1::2])\n",
    "print(a[6:2:-1])\n",
    "print(a[::-1])"
   ]
  },
  {
   "cell_type": "markdown",
   "id": "80626c70-ecdc-4d5b-a136-23dd6f8faec3",
   "metadata": {},
   "source": [
    "### Cálculos Matématicos"
   ]
  },
  {
   "cell_type": "code",
   "execution_count": 59,
   "id": "415caed4-4e9d-425a-a99b-f14afb8115d9",
   "metadata": {},
   "outputs": [
    {
     "name": "stdout",
     "output_type": "stream",
     "text": [
      "13\n",
      "7\n",
      "30\n",
      "3.3333333333333335\n",
      "3\n",
      "1\n",
      "1000\n"
     ]
    }
   ],
   "source": [
    "a = 10\n",
    "b = 3\n",
    "print(a + b) # Soma\n",
    "print(a - b) # Subtração\n",
    "print(a * b) # multiplicacao\n",
    "print(a / b) # divisão natural\n",
    "print(a // b) # divisão de inteiros\n",
    "print(a % b)  # resto da divisão inteiros\n",
    "print(a ** b) # potência"
   ]
  },
  {
   "cell_type": "code",
   "execution_count": null,
   "id": "dac36b23-6662-498a-961a-df1e7b77b0c2",
   "metadata": {},
   "outputs": [],
   "source": []
  },
  {
   "cell_type": "code",
   "execution_count": null,
   "id": "fea7a411-aad3-487d-b422-826a90247e9d",
   "metadata": {},
   "outputs": [],
   "source": []
  },
  {
   "cell_type": "code",
   "execution_count": null,
   "id": "591f7bd5-c3c7-404d-818f-8594280448b7",
   "metadata": {},
   "outputs": [],
   "source": []
  },
  {
   "cell_type": "code",
   "execution_count": null,
   "id": "aa9a10b5-9ee4-4d50-a555-1cc54f1fcffc",
   "metadata": {},
   "outputs": [],
   "source": []
  },
  {
   "cell_type": "code",
   "execution_count": null,
   "id": "6865ace7-38f9-42c9-81de-a1bfe68b5066",
   "metadata": {},
   "outputs": [],
   "source": []
  },
  {
   "cell_type": "code",
   "execution_count": null,
   "id": "91fc9252-ed72-49d6-a529-a3e62d59ff0c",
   "metadata": {},
   "outputs": [],
   "source": []
  }
 ],
 "metadata": {
  "kernelspec": {
   "display_name": "Python 3 (ipykernel)",
   "language": "python",
   "name": "python3"
  },
  "language_info": {
   "codemirror_mode": {
    "name": "ipython",
    "version": 3
   },
   "file_extension": ".py",
   "mimetype": "text/x-python",
   "name": "python",
   "nbconvert_exporter": "python",
   "pygments_lexer": "ipython3",
   "version": "3.9.2"
  }
 },
 "nbformat": 4,
 "nbformat_minor": 5
}
