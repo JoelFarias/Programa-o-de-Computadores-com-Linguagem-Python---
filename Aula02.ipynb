{
 "cells": [
  {
   "cell_type": "markdown",
   "id": "7069065d-02c4-4e13-a997-d0f7d07a6072",
   "metadata": {},
   "source": [
    "# Aula 02 - Python"
   ]
  },
  {
   "cell_type": "markdown",
   "id": "1deb5442-d4d2-4359-a713-ec69875169ed",
   "metadata": {},
   "source": [
    "## Cálculos matemáticos"
   ]
  },
  {
   "cell_type": "code",
   "execution_count": 1,
   "id": "af871e43-928e-46c0-bd97-e4e0e2e6a757",
   "metadata": {},
   "outputs": [
    {
     "name": "stdout",
     "output_type": "stream",
     "text": [
      "3\n"
     ]
    }
   ],
   "source": [
    "a = 3.99999999\n",
    "b = int(a)\n",
    "print(b)"
   ]
  },
  {
   "cell_type": "code",
   "execution_count": 2,
   "id": "2976f9ed-9193-4de6-8477-38b1a0c120ac",
   "metadata": {},
   "outputs": [
    {
     "name": "stdout",
     "output_type": "stream",
     "text": [
      "6.999999900000001\n"
     ]
    }
   ],
   "source": [
    "c = 3.9999999\n",
    "d = int(c)\n",
    "print(c + d)"
   ]
  },
  {
   "cell_type": "code",
   "execution_count": 3,
   "id": "082a2220-d1dc-4036-8a42-d2088938a53c",
   "metadata": {},
   "outputs": [
    {
     "name": "stdout",
     "output_type": "stream",
     "text": [
      "3.55\n"
     ]
    }
   ],
   "source": [
    "e = 3.54999999\n",
    "print(round(e, 2))"
   ]
  },
  {
   "cell_type": "code",
   "execution_count": 4,
   "id": "e6ff5f0a-85f9-4062-9d2e-0d92dec07f36",
   "metadata": {},
   "outputs": [
    {
     "name": "stdout",
     "output_type": "stream",
     "text": [
      "3.54\n"
     ]
    }
   ],
   "source": [
    "e = 3.54999999\n",
    "print((int(e * 100)) / 100)"
   ]
  },
  {
   "cell_type": "markdown",
   "id": "56caa915-a9b7-4f86-93a5-631c19b0bad7",
   "metadata": {},
   "source": [
    "## Listas\n",
    "Mutáveis"
   ]
  },
  {
   "cell_type": "code",
   "execution_count": 5,
   "id": "95729833-f72b-4dab-90e4-ff0a62fc2697",
   "metadata": {},
   "outputs": [
    {
     "name": "stdout",
     "output_type": "stream",
     "text": [
      "[4, 3, 5, 6, 1, 2]\n"
     ]
    }
   ],
   "source": [
    "lst = [4, 3, 5, 6, 1, 2]\n",
    "print(lst)"
   ]
  },
  {
   "cell_type": "code",
   "execution_count": 6,
   "id": "fe4662f9-b3d4-4420-8b2d-39d6b705e447",
   "metadata": {},
   "outputs": [
    {
     "name": "stdout",
     "output_type": "stream",
     "text": [
      "['Maçã', 'Pera', 'Tomate']\n"
     ]
    }
   ],
   "source": [
    "frutas = [\"Maçã\", \"Pera\", \"Tomate\"]\n",
    "print(frutas)"
   ]
  },
  {
   "cell_type": "code",
   "execution_count": 7,
   "id": "56bef55e-1c20-45fb-aecd-a4892d466d17",
   "metadata": {},
   "outputs": [
    {
     "name": "stdout",
     "output_type": "stream",
     "text": [
      "Tomate\n"
     ]
    }
   ],
   "source": [
    "print(frutas[2])"
   ]
  },
  {
   "cell_type": "code",
   "execution_count": 8,
   "id": "c0b55cfa-df72-4edf-bf0a-81d0f03fccb8",
   "metadata": {},
   "outputs": [
    {
     "name": "stdout",
     "output_type": "stream",
     "text": [
      "['Oi', 10, 20.6, 'Olá']\n"
     ]
    }
   ],
   "source": [
    "estranha = [\"Oi\", 10, 20.6, \"Olá\"]\n",
    "print(estranha)"
   ]
  },
  {
   "cell_type": "code",
   "execution_count": 9,
   "id": "5bac732d-4fa2-40f9-9e0a-1feae1089f09",
   "metadata": {},
   "outputs": [
    {
     "name": "stdout",
     "output_type": "stream",
     "text": [
      "['Maçã', 'Tomate']\n"
     ]
    }
   ],
   "source": [
    "# Remover Elemento\n",
    "frutas.pop(1)\n",
    "print(frutas)"
   ]
  },
  {
   "cell_type": "markdown",
   "id": "ef17eae3-a55d-4f39-916f-835112b0d93e",
   "metadata": {},
   "source": [
    "### Cópias"
   ]
  },
  {
   "cell_type": "code",
   "execution_count": 10,
   "id": "bc9d8671-1c69-4395-9702-865ff1d10d00",
   "metadata": {},
   "outputs": [
    {
     "name": "stdout",
     "output_type": "stream",
     "text": [
      "[0, 2, 4, 6, 8] [0, 2, 4, 6, 8]\n",
      "[0, 2, 4, 8] [0, 2, 4, 8]\n"
     ]
    }
   ],
   "source": [
    "lst1 = [0, 2, 4, 6, 8]\n",
    "lst2 = lst1\n",
    "print(lst1, lst2)\n",
    "lst1.pop(3)\n",
    "print(lst1, lst2)"
   ]
  },
  {
   "cell_type": "code",
   "execution_count": 11,
   "id": "27fc540f-6b44-4b7f-b751-047d039745da",
   "metadata": {},
   "outputs": [
    {
     "name": "stdout",
     "output_type": "stream",
     "text": [
      "[0, 2, 4, 6, 8] [0, 2, 4, 6, 8]\n",
      "[0, 2, 4, 8] [0, 2, 4, 6, 8]\n"
     ]
    }
   ],
   "source": [
    "# Primeira Solução - Copiar os elementos dessa lista\n",
    "lst1 = [0, 2, 4, 6, 8]\n",
    "lst2 = lst1[::]\n",
    "print(lst1, lst2)\n",
    "lst1.pop(3)\n",
    "print(lst1, lst2)"
   ]
  },
  {
   "cell_type": "code",
   "execution_count": 12,
   "id": "cd21fa22-edc6-4923-9fb0-fa684424c641",
   "metadata": {},
   "outputs": [
    {
     "name": "stdout",
     "output_type": "stream",
     "text": [
      "[0, 2, 4, 6, 8] [0, 2, 4, 6, 8]\n",
      "[0, 2, 4, 8] [0, 2, 4, 6, 8]\n"
     ]
    }
   ],
   "source": [
    "# Segunda Solução - Usar o método deepcopy\n",
    "from copy import deepcopy\n",
    "lst1 = [0, 2, 4, 6, 8]\n",
    "lst2 = deepcopy(lst1)\n",
    "print(lst1, lst2)\n",
    "lst1.pop(3)\n",
    "print(lst1, lst2)"
   ]
  },
  {
   "cell_type": "code",
   "execution_count": 13,
   "id": "6f825d58-2a52-4188-bcfe-c4c3b9003e1d",
   "metadata": {},
   "outputs": [
    {
     "name": "stdout",
     "output_type": "stream",
     "text": [
      "Somar: 2\n",
      "Qtd Elementos: 8\n",
      "Máx: 4\n",
      "Mín: -8\n",
      "O elemento 2 aparece 2\n"
     ]
    }
   ],
   "source": [
    "lst = [0, 2, 2, 4, -6, 4, -8, 4]\n",
    "print(\"Somar:\", sum(lst))\n",
    "print(\"Qtd Elementos:\", len(lst))\n",
    "print(\"Máx:\", max(lst))\n",
    "print(\"Mín:\", min(lst))\n",
    "print(\"O elemento 2 aparece\", lst.count(2))"
   ]
  },
  {
   "cell_type": "code",
   "execution_count": 14,
   "id": "82326811-aab5-48e8-9205-64506cb88991",
   "metadata": {},
   "outputs": [
    {
     "name": "stdout",
     "output_type": "stream",
     "text": [
      "[0, 2, 4, 6, 8, 1, 3, 5, 7, 9]\n",
      "[0, 1, 2, 3, 4, 5, 6, 7, 8, 9]\n"
     ]
    }
   ],
   "source": [
    "tst1 = [0, 2, 4, 6, 8]\n",
    "tst2 = [1, 3, 5, 7, 9]\n",
    "soma = tst1 + tst2\n",
    "print(soma)\n",
    "soma.sort()\n",
    "print(soma)"
   ]
  },
  {
   "cell_type": "markdown",
   "id": "03e6f725-be83-4140-8ac3-8706098b2740",
   "metadata": {},
   "source": [
    "## Inserir, Alterar e Excluir elementos"
   ]
  },
  {
   "cell_type": "code",
   "execution_count": 15,
   "id": "57fe3043-2a2b-4250-8fb7-b0e701a702fa",
   "metadata": {},
   "outputs": [
    {
     "name": "stdout",
     "output_type": "stream",
     "text": [
      "['Maça', 'Banana', 'Pequi', 'Kiwi']\n"
     ]
    }
   ],
   "source": [
    "frutas = [\"Maça\", 'Banana', \"Pequi\", 'Kiwi']\n",
    "print(frutas)"
   ]
  },
  {
   "cell_type": "code",
   "execution_count": 16,
   "id": "d029bdb3-a72c-43f6-a889-e2b01b9f156c",
   "metadata": {},
   "outputs": [
    {
     "name": "stdout",
     "output_type": "stream",
     "text": [
      "['Maça', 'Banana', 'Pequi', 'Kiwi', 'Jaca']\n"
     ]
    }
   ],
   "source": [
    "# Adicionar\n",
    "frutas.append(\"Jaca\")\n",
    "print(frutas)"
   ]
  },
  {
   "cell_type": "code",
   "execution_count": 17,
   "id": "7e94f5fc-7be2-426b-809d-69f9b0b2338c",
   "metadata": {},
   "outputs": [
    {
     "name": "stdout",
     "output_type": "stream",
     "text": [
      "['Maça', 'Banana', 'Pequi', 'Melancia', 'Jaca']\n"
     ]
    }
   ],
   "source": [
    "# Alterar\n",
    "frutas[3] = \"Melancia\"\n",
    "print(frutas)"
   ]
  },
  {
   "cell_type": "code",
   "execution_count": 18,
   "id": "13105f88-dc6d-438f-996f-5f0bd4d335e2",
   "metadata": {},
   "outputs": [
    {
     "name": "stdout",
     "output_type": "stream",
     "text": [
      "['Maça', 'Banana', 'Melancia', 'Jaca']\n"
     ]
    }
   ],
   "source": [
    "# Remover\n",
    "frutas.remove('Pequi')\n",
    "print(frutas)"
   ]
  },
  {
   "cell_type": "code",
   "execution_count": 19,
   "id": "8c4b7c44-90bd-423d-b2b6-d10cd794eafb",
   "metadata": {},
   "outputs": [],
   "source": [
    "# Destruir a Lista\n",
    "frutas.clear()"
   ]
  },
  {
   "cell_type": "markdown",
   "id": "7acfe3fc-fc37-49c9-aa01-e927cb5524c8",
   "metadata": {},
   "source": [
    "### String para lista"
   ]
  },
  {
   "cell_type": "code",
   "execution_count": 21,
   "id": "34d78a00-a406-4323-b38a-1661b2bf416a",
   "metadata": {},
   "outputs": [
    {
     "name": "stdout",
     "output_type": "stream",
     "text": [
      "['Maria', 'tinha', 'um', 'carneirinho,', 'e', 'seu', 'pelo', 'era', 'branco', 'como', 'a', 'neve']\n"
     ]
    }
   ],
   "source": [
    "frase = \"Maria tinha um carneirinho, e seu pelo era branco como a neve\"\n",
    "lst = frase.split()\n",
    "print(lst)"
   ]
  },
  {
   "cell_type": "code",
   "execution_count": 24,
   "id": "db5e71ae-5192-4f27-8a73-5827caa4ec4b",
   "metadata": {},
   "outputs": [
    {
     "name": "stdout",
     "output_type": "stream",
     "text": [
      "['Maria tinha um carneirinho', ' e seu pelo era branco como a neve']\n"
     ]
    }
   ],
   "source": [
    "lst = frase.split(\",\")\n",
    "print(lst)"
   ]
  },
  {
   "cell_type": "markdown",
   "id": "d3317a6e-927a-42ae-a84d-b3cca738d9c1",
   "metadata": {},
   "source": [
    "### Tuplas\n",
    "imutáveis"
   ]
  },
  {
   "cell_type": "code",
   "execution_count": 25,
   "id": "74f8d6aa-2f9b-4d92-87ec-892eb47e6a41",
   "metadata": {},
   "outputs": [
    {
     "name": "stdout",
     "output_type": "stream",
     "text": [
      "(1, 3, 4, 7, 8)\n"
     ]
    }
   ],
   "source": [
    "tpl = (1, 3, 4, 7, 8)\n",
    "print(tpl)"
   ]
  },
  {
   "cell_type": "code",
   "execution_count": 26,
   "id": "0134cc75-413e-4656-9a24-8aa9f6adb142",
   "metadata": {},
   "outputs": [
    {
     "name": "stdout",
     "output_type": "stream",
     "text": [
      "(1, 3, 4, 7, 8, 1, 3, 4, 7, 8, 1, 3, 4, 7, 8)\n"
     ]
    }
   ],
   "source": [
    "tpl = tpl + tpl + tpl\n",
    "print(tpl)"
   ]
  },
  {
   "cell_type": "code",
   "execution_count": 27,
   "id": "fc528558-c80f-47ea-bde9-e72c57cf660d",
   "metadata": {},
   "outputs": [
    {
     "ename": "TypeError",
     "evalue": "'tuple' object does not support item assignment",
     "output_type": "error",
     "traceback": [
      "\u001b[0;31m---------------------------------------------------------------------------\u001b[0m",
      "\u001b[0;31mTypeError\u001b[0m                                 Traceback (most recent call last)",
      "Cell \u001b[0;32mIn[27], line 1\u001b[0m\n\u001b[0;32m----> 1\u001b[0m \u001b[43mtpl\u001b[49m\u001b[43m[\u001b[49m\u001b[38;5;241;43m2\u001b[39;49m\u001b[43m]\u001b[49m \u001b[38;5;241m=\u001b[39m \u001b[38;5;241m18\u001b[39m\n\u001b[1;32m      2\u001b[0m \u001b[38;5;28mprint\u001b[39m(tpl)\n",
      "\u001b[0;31mTypeError\u001b[0m: 'tuple' object does not support item assignment"
     ]
    }
   ],
   "source": [
    "tpl[2] = 18\n",
    "print(tpl)"
   ]
  },
  {
   "cell_type": "code",
   "execution_count": 29,
   "id": "e7e1c010-e73d-44fb-8d1c-f0679e24f466",
   "metadata": {},
   "outputs": [
    {
     "name": "stdout",
     "output_type": "stream",
     "text": [
      "[1, 3, 4, 7, 8, 1, 3, 4, 7, 8, 1, 3, 4, 7, 8]\n",
      "[1, 3, 18, 7, 8, 1, 3, 4, 7, 8, 1, 3, 4, 7, 8]\n"
     ]
    }
   ],
   "source": [
    "lst = list(tpl)\n",
    "print(lst)\n",
    "lst[2] = 18\n",
    "print(lst)"
   ]
  },
  {
   "cell_type": "code",
   "execution_count": 30,
   "id": "0adabfae-d78e-4701-b2df-84ccdec7750c",
   "metadata": {},
   "outputs": [
    {
     "name": "stdout",
     "output_type": "stream",
     "text": [
      "(1, 3, 18, 7, 8, 1, 3, 4, 7, 8, 1, 3, 4, 7, 8)\n"
     ]
    }
   ],
   "source": [
    "tpl = tuple(lst)\n",
    "print(tpl)"
   ]
  },
  {
   "cell_type": "markdown",
   "id": "03b3ee2e-d66f-4bbc-8299-c428de9c741b",
   "metadata": {},
   "source": [
    "### Conjuntos\n",
    "Ordenados e não permitem REPETIÇÕES"
   ]
  },
  {
   "cell_type": "code",
   "execution_count": 35,
   "id": "5401bff4-be9d-4fbd-b7ae-2e6d38269531",
   "metadata": {},
   "outputs": [
    {
     "name": "stdout",
     "output_type": "stream",
     "text": [
      "{1, 2, 3, 4, 5, 6}\n"
     ]
    }
   ],
   "source": [
    "cnj = {3, 4, 5, 4, 6, 2, 1}\n",
    "print(cnj)"
   ]
  },
  {
   "cell_type": "code",
   "execution_count": 38,
   "id": "1b9a62ad-8c92-423b-99cd-d7348b4680e8",
   "metadata": {},
   "outputs": [
    {
     "name": "stdout",
     "output_type": "stream",
     "text": [
      "{'Ba', 'Ma', 'Aa', 'Ac', 'Ki'}\n"
     ]
    }
   ],
   "source": [
    "frutas = {\"Ba\", \"Aa\", \"Ac\", \"Ma\", \"Ac\", \"Ki\"}\n",
    "print(frutas)"
   ]
  },
  {
   "cell_type": "code",
   "execution_count": 40,
   "id": "a7e3b065-0948-43f9-ac1f-f8890bb913d1",
   "metadata": {},
   "outputs": [
    {
     "name": "stdout",
     "output_type": "stream",
     "text": [
      "{False, True, 1.32, 3, 4, 2.8, 6, '5.0', '3', '4'}\n"
     ]
    }
   ],
   "source": [
    "cnj = {4, '3', True, 3, 6, False, '4', 1.32, True, 2.8, 4, '5.0'}\n",
    "print(cnj)"
   ]
  },
  {
   "cell_type": "markdown",
   "id": "7bf1e5ec-3146-4edc-95ef-d54d43321488",
   "metadata": {},
   "source": [
    "### Dicionários"
   ]
  },
  {
   "cell_type": "code",
   "execution_count": 41,
   "id": "e6f4d8c3-921d-436c-ac31-5ca20742578b",
   "metadata": {},
   "outputs": [
    {
     "name": "stdout",
     "output_type": "stream",
     "text": [
      "{'Mad Max: Fury Road': 8.1, 'Spider-Man': 7.3, 'Ex Machina': 1.7, 'Venom': 7.1}\n"
     ]
    }
   ],
   "source": [
    "imdb = {\n",
    "    \"Mad Max: Fury Road\": 8.1,\n",
    "    \"Spider-Man\": 7.3,\n",
    "    \"Ex Machina\": 1.7,\n",
    "    \"Venom\": 7.1\n",
    "}\n",
    "print(imdb)"
   ]
  },
  {
   "cell_type": "code",
   "execution_count": 42,
   "id": "1533b3ec-e99f-41c9-8d3d-a1d7c5434659",
   "metadata": {},
   "outputs": [
    {
     "name": "stdout",
     "output_type": "stream",
     "text": [
      "{'Mad Max: Fury Road': 8.1, 'Spider-Man': 7.3, 'Ex Machina': 1.7, 'Venom': 7.1, 'Deadpool': 8.0}\n"
     ]
    }
   ],
   "source": [
    "# Adicionar\n",
    "imdb[\"Deadpool\"] = 8.0\n",
    "print(imdb)"
   ]
  },
  {
   "cell_type": "code",
   "execution_count": 43,
   "id": "25993c56-0403-4479-9143-e36bff4c2df5",
   "metadata": {},
   "outputs": [
    {
     "name": "stdout",
     "output_type": "stream",
     "text": [
      "{'Mad Max: Fury Road': 8.1, 'Spider-Man': 7.3, 'Ex Machina': 7.7, 'Venom': 7.1, 'Deadpool': 8.0}\n"
     ]
    }
   ],
   "source": [
    "# Alterar\n",
    "imdb['Ex Machina'] = 7.7\n",
    "print(imdb)"
   ]
  },
  {
   "cell_type": "code",
   "execution_count": 44,
   "id": "42377a34-5548-4499-b4c5-a570118684c2",
   "metadata": {},
   "outputs": [
    {
     "name": "stdout",
     "output_type": "stream",
     "text": [
      "{'Mad Max: Fury Road': 8.1, 'Ex Machina': 7.7, 'Venom': 7.1, 'Deadpool': 8.0}\n"
     ]
    }
   ],
   "source": [
    "# Excluir\n",
    "del(imdb['Spider-Man'])\n",
    "print(imdb)"
   ]
  },
  {
   "cell_type": "code",
   "execution_count": 45,
   "id": "0e2c5e15-3416-4d45-ae77-049e2d89f194",
   "metadata": {},
   "outputs": [
    {
     "name": "stdout",
     "output_type": "stream",
     "text": [
      "dict_keys(['Mad Max: Fury Road', 'Ex Machina', 'Venom', 'Deadpool'])\n",
      "dict_values([8.1, 7.7, 7.1, 8.0])\n",
      "dict_items([('Mad Max: Fury Road', 8.1), ('Ex Machina', 7.7), ('Venom', 7.1), ('Deadpool', 8.0)])\n"
     ]
    }
   ],
   "source": [
    "print(imdb.keys())\n",
    "print(imdb.values())\n",
    "print(imdb.items())"
   ]
  },
  {
   "cell_type": "code",
   "execution_count": 48,
   "id": "b049645b-6c10-4f41-927a-59ff6370583b",
   "metadata": {},
   "outputs": [
    {
     "name": "stdout",
     "output_type": "stream",
     "text": [
      "7.1\n",
      "7.1\n"
     ]
    }
   ],
   "source": [
    "print(imdb.get('Venom'))\n",
    "print(imdb['Venom'])"
   ]
  },
  {
   "cell_type": "code",
   "execution_count": 49,
   "id": "71016180-d04c-4548-b69a-256faa98d8e5",
   "metadata": {},
   "outputs": [
    {
     "name": "stdout",
     "output_type": "stream",
     "text": [
      "['Mad Max: Fury Road', 'Ex Machina', 'Venom', 'Deadpool']\n",
      "('Mad Max: Fury Road', 'Ex Machina', 'Venom', 'Deadpool')\n",
      "{'Mad Max: Fury Road', 'Deadpool', 'Ex Machina', 'Venom'}\n"
     ]
    }
   ],
   "source": [
    "print(list(imdb))\n",
    "print(tuple(imdb))\n",
    "print(set(imdb))"
   ]
  },
  {
   "cell_type": "markdown",
   "id": "62ef467c-0a9e-42d8-90a9-a75753f39add",
   "metadata": {},
   "source": [
    "### Comandos mágicos"
   ]
  },
  {
   "cell_type": "code",
   "execution_count": 50,
   "id": "c40d3e0c-8d70-44d6-8ab7-8e65aea7fa2c",
   "metadata": {},
   "outputs": [
    {
     "name": "stdout",
     "output_type": "stream",
     "text": [
      "Requirement already satisfied: numpy in /usr/local/lib/python3.9/dist-packages (1.22.1)\n"
     ]
    }
   ],
   "source": [
    "!pip install numpy\n",
    "# !conda install numpy"
   ]
  },
  {
   "cell_type": "code",
   "execution_count": 51,
   "id": "db861730-dcb2-4b5b-a9d3-c54ed17be059",
   "metadata": {},
   "outputs": [
    {
     "data": {
      "text/plain": [
       "'/root/GitProjects/AgostoPythonI'"
      ]
     },
     "execution_count": 51,
     "metadata": {},
     "output_type": "execute_result"
    }
   ],
   "source": [
    "%pwd"
   ]
  },
  {
   "cell_type": "code",
   "execution_count": 53,
   "id": "96c37567-7c33-4818-80e1-57fc5bcc07e4",
   "metadata": {},
   "outputs": [
    {
     "name": "stdout",
     "output_type": "stream",
     "text": [
      "Aula01.ipynb  Aula02.ipynb\n"
     ]
    }
   ],
   "source": [
    "%ls"
   ]
  },
  {
   "cell_type": "code",
   "execution_count": null,
   "id": "41a8a0e6-cb36-4ea0-881d-cc635081d152",
   "metadata": {},
   "outputs": [],
   "source": []
  }
 ],
 "metadata": {
  "kernelspec": {
   "display_name": "Python 3 (ipykernel)",
   "language": "python",
   "name": "python3"
  },
  "language_info": {
   "codemirror_mode": {
    "name": "ipython",
    "version": 3
   },
   "file_extension": ".py",
   "mimetype": "text/x-python",
   "name": "python",
   "nbconvert_exporter": "python",
   "pygments_lexer": "ipython3",
   "version": "3.9.2"
  }
 },
 "nbformat": 4,
 "nbformat_minor": 5
}
