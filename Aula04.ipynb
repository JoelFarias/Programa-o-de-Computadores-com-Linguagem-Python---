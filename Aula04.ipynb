{
 "cells": [
  {
   "cell_type": "markdown",
   "id": "f3906091-08da-4ffb-985d-35d571d06002",
   "metadata": {},
   "source": [
    "# Aula 04"
   ]
  },
  {
   "cell_type": "markdown",
   "id": "8dce42ff-7a1b-4574-b480-4d8c948c56a5",
   "metadata": {},
   "source": [
    "## Data e Hora"
   ]
  },
  {
   "cell_type": "code",
   "execution_count": 3,
   "id": "51517b97-3cdb-48ed-a4c2-525d6146951b",
   "metadata": {},
   "outputs": [
    {
     "name": "stdout",
     "output_type": "stream",
     "text": [
      "2023-09-09 08:49:37.664330\n",
      "2023-09-09 08:49:37.665056\n",
      "<class 'datetime.datetime'> <class 'datetime.datetime'>\n"
     ]
    }
   ],
   "source": [
    "import datetime\n",
    "hj = datetime.datetime.now()\n",
    "print(hj)\n",
    "hj2 = datetime.datetime.today()\n",
    "print(hj2)\n",
    "print(type(hj),type(hj2))"
   ]
  },
  {
   "cell_type": "code",
   "execution_count": 6,
   "id": "ce808398-9f2b-44c0-ad82-628282eca699",
   "metadata": {},
   "outputs": [
    {
     "name": "stdout",
     "output_type": "stream",
     "text": [
      "2023-09-09 09:06:29.428738\n"
     ]
    }
   ],
   "source": [
    "from datetime import datetime\n",
    "hj = datetime.now()\n",
    "print(hj)"
   ]
  },
  {
   "cell_type": "code",
   "execution_count": 19,
   "id": "51cbf587-5c47-43ae-a201-22539b3d49f0",
   "metadata": {},
   "outputs": [
    {
     "name": "stdout",
     "output_type": "stream",
     "text": [
      "Sem Time Zone: 2023-09-09 09:32:36.369942 2023-09-09 12:32:36.369995\n",
      "Com Time Zone: 2023-09-09 22:32:36.369942+10:00 2023-09-09 12:32:36.370229\n"
     ]
    }
   ],
   "source": [
    "# Acertar Zona\n",
    "# https://gist.github.com/heyalexej/8bf688fd67d7199be4a1682b3eec7568\n",
    "from datetime import datetime\n",
    "import pytz\n",
    "\n",
    "pst = pytz.timezone('Australia/Canberra') # America/Sao_Paulo\n",
    "d = datetime.now()\n",
    "print(\"Sem Time Zone:\", d)\n",
    "d = d.astimezone(pst)\n",
    "print(\"Com Time Zone:\", d)"
   ]
  },
  {
   "cell_type": "code",
   "execution_count": 13,
   "id": "c9ada2a4-3676-4e7d-a08d-bea918b76f7d",
   "metadata": {},
   "outputs": [
    {
     "name": "stdout",
     "output_type": "stream",
     "text": [
      "Ano: 2023\n",
      "Mês: 9\n",
      "Dia: 9\n",
      "Hora: 9\n",
      "Minuto: 19\n",
      "Segundo: 33\n",
      "Milisegundo: 750924\n",
      "Data: 2023-09-09\n",
      "Hora: 09:19:33.750924\n"
     ]
    }
   ],
   "source": [
    "from datetime import datetime\n",
    "hj = datetime.now()\n",
    "print('Ano:', hj.year)\n",
    "print('Mês:', hj.month)\n",
    "print('Dia:', hj.day)\n",
    "print('Hora:', hj.hour)\n",
    "print('Minuto:', hj.minute)\n",
    "print('Segundo:', hj.second)\n",
    "print('Milisegundo:', hj.microsecond)\n",
    "\n",
    "print('Data:', hj.date())\n",
    "print('Hora:', hj.time())"
   ]
  },
  {
   "cell_type": "code",
   "execution_count": 14,
   "id": "01b9840e-4890-4738-8fa3-1706736c2a53",
   "metadata": {},
   "outputs": [
    {
     "name": "stdout",
     "output_type": "stream",
     "text": [
      "Dia da Semana: 5\n"
     ]
    }
   ],
   "source": [
    "dt = hj.date()\n",
    "print('Dia da Semana:', dt.weekday()) "
   ]
  },
  {
   "cell_type": "code",
   "execution_count": 21,
   "id": "6786ebfa-0951-4475-a649-6900730aad0f",
   "metadata": {},
   "outputs": [
    {
     "name": "stdout",
     "output_type": "stream",
     "text": [
      "Sat Saturday 09 09 Sep September 23 2023 09:36:25\n"
     ]
    }
   ],
   "source": [
    "from datetime import datetime\n",
    "frm = \"%a %A %d %m %b %B %y %Y %H:%M:%S\"\n",
    "hj = datetime.today()\n",
    "print(hj.strftime(frm))"
   ]
  },
  {
   "cell_type": "code",
   "execution_count": 26,
   "id": "c40958fc-72e0-40fd-aee0-87af7f52251e",
   "metadata": {},
   "outputs": [
    {
     "name": "stdout",
     "output_type": "stream",
     "text": [
      "Hoje é: 2023-09-09\n",
      "738772\n",
      "2023-10-24\n"
     ]
    }
   ],
   "source": [
    "from datetime import date\n",
    "hj = date.today()\n",
    "print(\"Hoje é:\", hj)\n",
    "hj45 = hj.toordinal()\n",
    "print(hj45)\n",
    "hj45 = hj45 + 45\n",
    "futuro = hj.fromordinal(hj45)\n",
    "print(futuro)"
   ]
  },
  {
   "cell_type": "code",
   "execution_count": 27,
   "id": "950c8092-bb69-4bd6-809c-3429142d7fd2",
   "metadata": {},
   "outputs": [
    {
     "name": "stdout",
     "output_type": "stream",
     "text": [
      "Hora\n",
      "12:24:00\n",
      "14:05:08\n",
      "True\n"
     ]
    }
   ],
   "source": [
    "import datetime\n",
    "print('Hora')\n",
    "t1 = datetime.time(hour=12, minute=24, second=0)\n",
    "print(t1)\n",
    "t2 = datetime.time(14,5,8)\n",
    "print(t2)\n",
    "\n",
    "print(t2 > t1)"
   ]
  },
  {
   "cell_type": "code",
   "execution_count": 28,
   "id": "b86746a8-5df8-4df5-95d8-9dd335de2d43",
   "metadata": {},
   "outputs": [
    {
     "name": "stdout",
     "output_type": "stream",
     "text": [
      "D1 2023-09-09\n",
      "D2 2023-10-24\n",
      "True\n"
     ]
    }
   ],
   "source": [
    "import datetime\n",
    "d1 = datetime.date.today()\n",
    "print('D1', d1)\n",
    "d2 = d1 + datetime.timedelta(days=45)\n",
    "print('D2', d2)\n",
    "\n",
    "print(d2 > d1)"
   ]
  },
  {
   "cell_type": "code",
   "execution_count": 31,
   "id": "78b39616-008c-486f-83d2-882d7aef401a",
   "metadata": {},
   "outputs": [
    {
     "name": "stdout",
     "output_type": "stream",
     "text": [
      "1966-08-17\n",
      "1966-08-17\n"
     ]
    }
   ],
   "source": [
    "from datetime import date\n",
    "inicio = date(year=1966, month=8, day=17)\n",
    "print(inicio)\n",
    "inicio = date(1966, 8, 17)\n",
    "print(inicio)"
   ]
  },
  {
   "cell_type": "markdown",
   "id": "80df75d1-d520-4ac7-aeba-3e22342262a6",
   "metadata": {},
   "source": [
    "### Desafio\n",
    "\n",
    "Você receberá férias atrasadas que começam no dia 30 de julho de 2020 e deve retornar depois de 137 dias. Mostrar o dia que você voltará de férias."
   ]
  },
  {
   "cell_type": "code",
   "execution_count": 32,
   "id": "27c4d7e3-d499-4026-9cb3-aaebb314c460",
   "metadata": {},
   "outputs": [
    {
     "name": "stdout",
     "output_type": "stream",
     "text": [
      "Você deve retornar em 14/12/2020\n"
     ]
    }
   ],
   "source": [
    "from datetime import date, timedelta\n",
    "inicio = date(2020,7,30)\n",
    "ferias = timedelta(days=137)\n",
    "final = inicio + ferias\n",
    "print(final.strftime('Você deve retornar em %d/%m/%Y'))"
   ]
  },
  {
   "cell_type": "markdown",
   "id": "8818d4fd-f156-4df5-b52e-12b7e616cd6e",
   "metadata": {},
   "source": [
    "## Funções"
   ]
  },
  {
   "cell_type": "code",
   "execution_count": 37,
   "id": "48570d68-8f41-4043-89c1-15b908038178",
   "metadata": {},
   "outputs": [],
   "source": [
    "def fatorial(n):\n",
    "    if n == 0:\n",
    "        return 1\n",
    "    result = n\n",
    "    for i in range(1,n):\n",
    "        result *= i\n",
    "    return result"
   ]
  },
  {
   "cell_type": "code",
   "execution_count": 38,
   "id": "6a6a0f5c-4817-46b1-b178-65f172feadea",
   "metadata": {},
   "outputs": [
    {
     "name": "stdout",
     "output_type": "stream",
     "text": [
      "120\n"
     ]
    }
   ],
   "source": [
    "print(fatorial(5))"
   ]
  },
  {
   "cell_type": "code",
   "execution_count": 39,
   "id": "9e3be2ca-6df3-4ec1-806f-5755617c6543",
   "metadata": {},
   "outputs": [],
   "source": [
    "def somarSubtrair(a, b):\n",
    "    s1 = a + b\n",
    "    s2 = a - b\n",
    "    return s1, s2"
   ]
  },
  {
   "cell_type": "code",
   "execution_count": 41,
   "id": "8f0d0aed-472c-4225-8c99-63819baf8111",
   "metadata": {},
   "outputs": [
    {
     "name": "stdout",
     "output_type": "stream",
     "text": [
      "Soma 13 Subtração 7\n"
     ]
    }
   ],
   "source": [
    "x, z = somarSubtrair(10, 3)\n",
    "print(\"Soma\",x,\"Subtração\",z)"
   ]
  },
  {
   "cell_type": "code",
   "execution_count": 42,
   "id": "863bd237-f71a-4e73-9514-a7a8d3e1a682",
   "metadata": {},
   "outputs": [],
   "source": [
    "# Função Recursiva\n",
    "def fatorial_rec(n):\n",
    "    if n <= 1:\n",
    "        return 1\n",
    "    return n * fatorial_rec(n-1)"
   ]
  },
  {
   "cell_type": "code",
   "execution_count": 43,
   "id": "a22dff7a-ae67-429f-bc37-4cdc30ea6c05",
   "metadata": {},
   "outputs": [
    {
     "name": "stdout",
     "output_type": "stream",
     "text": [
      "120\n"
     ]
    }
   ],
   "source": [
    "print(fatorial_rec(5))"
   ]
  },
  {
   "cell_type": "markdown",
   "id": "8e506b3c-5c78-442f-8ca5-89bb3df2255c",
   "metadata": {},
   "source": [
    "## Lambda"
   ]
  },
  {
   "cell_type": "code",
   "execution_count": 44,
   "id": "25a88684-c768-476b-b938-48d921b5267e",
   "metadata": {},
   "outputs": [
    {
     "name": "stdout",
     "output_type": "stream",
     "text": [
      "25\n"
     ]
    }
   ],
   "source": [
    "def quadradoDe(x):\n",
    "    return x**2\n",
    "\n",
    "print(quadradoDe(5))"
   ]
  },
  {
   "cell_type": "code",
   "execution_count": 45,
   "id": "dd145d8f-acb2-4b81-9626-5c6abec14f70",
   "metadata": {},
   "outputs": [],
   "source": [
    "quadLamb = lambda x: x**2"
   ]
  },
  {
   "cell_type": "code",
   "execution_count": 46,
   "id": "e4441fc4-85d5-41ad-87b0-7f60f086b18e",
   "metadata": {},
   "outputs": [
    {
     "name": "stdout",
     "output_type": "stream",
     "text": [
      "25\n"
     ]
    }
   ],
   "source": [
    "print(quadLamb(5))"
   ]
  },
  {
   "cell_type": "code",
   "execution_count": 47,
   "id": "1a902a6c-31a7-4195-9f88-e2cffc050248",
   "metadata": {},
   "outputs": [],
   "source": [
    "isPar = lambda z: z % 2 == 0"
   ]
  },
  {
   "cell_type": "code",
   "execution_count": 49,
   "id": "edef7a93-507a-4f65-bb0c-155726a36068",
   "metadata": {},
   "outputs": [
    {
     "name": "stdout",
     "output_type": "stream",
     "text": [
      "É par\n"
     ]
    }
   ],
   "source": [
    "if isPar(2):\n",
    "    print(\"É par\")\n",
    "else:\n",
    "    print(\"É ímpar\")"
   ]
  },
  {
   "cell_type": "code",
   "execution_count": 50,
   "id": "8674454c-3434-419c-9963-5a62ec1f288b",
   "metadata": {},
   "outputs": [],
   "source": [
    "priLetra = lambda s: s[0]"
   ]
  },
  {
   "cell_type": "code",
   "execution_count": 51,
   "id": "aee249c5-ee66-4370-9276-4668c6808986",
   "metadata": {},
   "outputs": [
    {
     "name": "stdout",
     "output_type": "stream",
     "text": [
      "F\n"
     ]
    }
   ],
   "source": [
    "print(priLetra(\"Fernando\"))"
   ]
  },
  {
   "cell_type": "code",
   "execution_count": 52,
   "id": "d94735d2-2bd8-472f-afb2-404fb30422df",
   "metadata": {},
   "outputs": [],
   "source": [
    "addNums = lambda x,y: x + y"
   ]
  },
  {
   "cell_type": "code",
   "execution_count": 53,
   "id": "1b7cf21e-3135-4055-bd02-7bf24e1c1f42",
   "metadata": {},
   "outputs": [
    {
     "name": "stdout",
     "output_type": "stream",
     "text": [
      "9\n"
     ]
    }
   ],
   "source": [
    "print(addNums(4,5))"
   ]
  },
  {
   "cell_type": "markdown",
   "id": "28976482-ed9b-4e26-b76a-2e944eaa10f7",
   "metadata": {},
   "source": [
    "## Map\n",
    "Elemento a elemento"
   ]
  },
  {
   "cell_type": "code",
   "execution_count": 54,
   "id": "5f9ac607-35ad-478c-9843-1f1591adf3d1",
   "metadata": {},
   "outputs": [
    {
     "name": "stdout",
     "output_type": "stream",
     "text": [
      "[8, 37.0, 28.0, 12.3, 44.2, 4, 18, 57]\n"
     ]
    }
   ],
   "source": [
    "temps = [8, 37.0, 28.0, 12.3, 44.2, 4, 18, 57]\n",
    "print(temps)"
   ]
  },
  {
   "cell_type": "code",
   "execution_count": 55,
   "id": "3dc41d25-c839-4ff7-8035-df95e60cbb43",
   "metadata": {},
   "outputs": [],
   "source": [
    "def fahf(c):\n",
    "    return (float(9) / 5) * c + 32\n",
    "def celf(f):\n",
    "    return (float(5) / 9) * (f - 32)\n",
    "\n",
    "fah = lambda c: (float(9) / 5) * c + 32\n",
    "cel = lambda f: (float(5) / 9) * (f - 32)"
   ]
  },
  {
   "cell_type": "code",
   "execution_count": 57,
   "id": "80658278-7813-4743-85f4-5a502ffacd6c",
   "metadata": {},
   "outputs": [
    {
     "data": {
      "text/plain": [
       "37.00000000000001"
      ]
     },
     "execution_count": 57,
     "metadata": {},
     "output_type": "execute_result"
    }
   ],
   "source": [
    "cel(fah(37.0))"
   ]
  },
  {
   "cell_type": "code",
   "execution_count": 64,
   "id": "44a39725-4502-43f4-ac3b-774f010f9a57",
   "metadata": {},
   "outputs": [
    {
     "name": "stdout",
     "output_type": "stream",
     "text": [
      "[46.4, 98.60000000000001, 82.4, 54.14, 111.56, 39.2, 64.4, 134.60000000000002]\n"
     ]
    }
   ],
   "source": [
    "tempsF = list(map(fahf, temps))\n",
    "print(tempsF)"
   ]
  },
  {
   "cell_type": "code",
   "execution_count": 60,
   "id": "8dc555d3-755a-45fd-a267-16aa9feb0721",
   "metadata": {},
   "outputs": [
    {
     "name": "stdout",
     "output_type": "stream",
     "text": [
      "[8.0, 37.00000000000001, 28.000000000000004, 12.3, 44.2, 4.000000000000002, 18.000000000000004, 57.000000000000014]\n"
     ]
    }
   ],
   "source": [
    "tempsC = list(map(cel, tempsF))\n",
    "print(tempsC)"
   ]
  },
  {
   "cell_type": "code",
   "execution_count": 61,
   "id": "d7257707-6daa-46d2-94d2-6de4e0455524",
   "metadata": {},
   "outputs": [
    {
     "name": "stdout",
     "output_type": "stream",
     "text": [
      "[5, 34.0, 25.0, 9.3, 41.2, 1, 15, 54]\n"
     ]
    }
   ],
   "source": [
    "menos3 = list(map(lambda x: x - 3, temps))\n",
    "print(menos3)"
   ]
  },
  {
   "cell_type": "markdown",
   "id": "a8f6e43d-d0fd-4ba2-89af-6b17ef41fd02",
   "metadata": {},
   "source": [
    "## Reduce\n",
    "Age de 2 em 2 elementos"
   ]
  },
  {
   "cell_type": "code",
   "execution_count": 62,
   "id": "18fb8e1f-37bc-4f50-b2be-b850716ccd25",
   "metadata": {},
   "outputs": [],
   "source": [
    "from functools import reduce"
   ]
  },
  {
   "cell_type": "code",
   "execution_count": 63,
   "id": "bf097a42-9dcf-424e-a6cb-44a258975d4c",
   "metadata": {},
   "outputs": [],
   "source": [
    "lst = [1, 2, 7, 8, 4, 5, 6]"
   ]
  },
  {
   "cell_type": "code",
   "execution_count": 73,
   "id": "188966d4-e0ff-4d18-acd7-1d7eee95f86e",
   "metadata": {},
   "outputs": [],
   "source": [
    "def somar(a,b):\n",
    "    return a - b"
   ]
  },
  {
   "cell_type": "code",
   "execution_count": 74,
   "id": "638ffd5e-54be-4492-adf4-b2be498b5bd1",
   "metadata": {},
   "outputs": [
    {
     "name": "stdout",
     "output_type": "stream",
     "text": [
      "-31\n"
     ]
    }
   ],
   "source": [
    "print(reduce(somar, lst))"
   ]
  },
  {
   "cell_type": "code",
   "execution_count": 75,
   "id": "1f7873ef-c3dd-411c-85a3-76737318fdda",
   "metadata": {},
   "outputs": [
    {
     "data": {
      "text/plain": [
       "8"
      ]
     },
     "execution_count": 75,
     "metadata": {},
     "output_type": "execute_result"
    }
   ],
   "source": [
    "reduce(lambda a,b: a if a > b else b, lst)"
   ]
  },
  {
   "cell_type": "code",
   "execution_count": 77,
   "id": "c6a366a0-a5f9-4e7a-89ab-1f799bfce9aa",
   "metadata": {},
   "outputs": [
    {
     "name": "stdout",
     "output_type": "stream",
     "text": [
      "V\n"
     ]
    }
   ],
   "source": [
    "# Ternário\n",
    "x = 3\n",
    "print(x == 3 and \"V\" or \"F\")"
   ]
  },
  {
   "cell_type": "code",
   "execution_count": 79,
   "id": "580c804b-0142-47ce-9b5f-3d08998f6df5",
   "metadata": {},
   "outputs": [
    {
     "name": "stdout",
     "output_type": "stream",
     "text": [
      "V\n"
     ]
    }
   ],
   "source": [
    "# Condicional de linha\n",
    "a = 6\n",
    "b = 4\n",
    "print(\"V\" if a > b else \"F\")"
   ]
  },
  {
   "cell_type": "code",
   "execution_count": null,
   "id": "947b7bea-f683-4bab-8f6e-45a2ee0b42da",
   "metadata": {},
   "outputs": [],
   "source": []
  }
 ],
 "metadata": {
  "kernelspec": {
   "display_name": "Python 3 (ipykernel)",
   "language": "python",
   "name": "python3"
  },
  "language_info": {
   "codemirror_mode": {
    "name": "ipython",
    "version": 3
   },
   "file_extension": ".py",
   "mimetype": "text/x-python",
   "name": "python",
   "nbconvert_exporter": "python",
   "pygments_lexer": "ipython3",
   "version": "3.9.2"
  }
 },
 "nbformat": 4,
 "nbformat_minor": 5
}
