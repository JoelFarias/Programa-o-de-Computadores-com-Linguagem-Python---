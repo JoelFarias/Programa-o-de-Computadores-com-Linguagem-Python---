{
 "cells": [
  {
   "cell_type": "markdown",
   "id": "419c4354-db9a-4286-b82c-1f0e05d0ae7b",
   "metadata": {},
   "source": [
    "# Aula 13\n",
    "### SQLite e NoSQL"
   ]
  },
  {
   "cell_type": "code",
   "execution_count": null,
   "id": "d827f885-fe33-4c5a-9454-f3d5a6f523c2",
   "metadata": {},
   "outputs": [],
   "source": [
    "# !pip install sqlite3\n",
    "import sqlite3"
   ]
  },
  {
   "cell_type": "code",
   "execution_count": null,
   "id": "2dd33d62-9169-49e1-8848-ee994e0fb480",
   "metadata": {},
   "outputs": [],
   "source": [
    "con = sqlite3.connect('banco.db')"
   ]
  },
  {
   "cell_type": "code",
   "execution_count": null,
   "id": "e6d6b3e3-6889-417f-b0ce-1ba162167b25",
   "metadata": {},
   "outputs": [],
   "source": [
    "cur = con.cursor()"
   ]
  },
  {
   "cell_type": "markdown",
   "id": "7b917370-6cd4-4642-8a58-a7cf15f63e2e",
   "metadata": {},
   "source": [
    "### Criar uma tabela"
   ]
  },
  {
   "cell_type": "code",
   "execution_count": null,
   "id": "924cd0bc-93d1-4ae8-af43-92f0dc5d3a65",
   "metadata": {},
   "outputs": [],
   "source": [
    "# char text real integer varchar\n",
    "cur.execute(\"\"\"\n",
    "    CREATE TABLE funcionarios (id INTEGER PRIMARY KEY AUTOINCREMENT,\n",
    "    nome varchar(40),\n",
    "    email varchar(90),\n",
    "    telefone varchar(20),\n",
    "    idade INTEGER)\"\"\")\n",
    "con.commit()"
   ]
  },
  {
   "cell_type": "code",
   "execution_count": null,
   "id": "a4280606-fc81-4ba6-974b-217de036669b",
   "metadata": {},
   "outputs": [],
   "source": [
    "# Mokar uns 100 regs\n",
    "import random\n",
    "lstNomes = [\n",
    "    'Joana', 'Maria', 'Carlos', 'Soares', 'Buarque',\n",
    "    'Holanda', 'Ramalho', 'José', 'Amaro', 'Camila',\n",
    "    'Sobral', 'Ricardo', 'Amelia', 'Ana', 'Francisca',\n",
    "    'Karla', 'Francisco', 'Antonio', 'Antonia', 'Marcos',\n",
    "    'Luis', 'Gabriel', 'Raphael', 'Ezequiel', 'Samuel',\n",
    "    'Miguel', 'Daniel', 'Bruno', 'Bruna', 'Eduardo']\n",
    "for i in range(0, 100):\n",
    "    prinome = lstNomes[(int)(random.random()*30)]\n",
    "    nome = prinome + \" \" + lstNomes[(int)(random.random()*30)]\n",
    "    idade = (int)(random.random()*42)+18\n",
    "    email = prinome.lower() + \"@empresa.com\"\n",
    "    telefone = \"\"\n",
    "    for j in range(1,10):\n",
    "        telefone += (str)((int)(random.random()*10))\n",
    "    cur.execute(\n",
    "        \"INSERT INTO funcionarios (nome, email, telefone, idade) VALUES ('\" + nome + \"', '\" + email + \"', '\" + telefone + \"', \" + str(idade) + \")\")\n",
    "con.commit()"
   ]
  },
  {
   "cell_type": "code",
   "execution_count": null,
   "id": "c8791f58-8053-470d-b588-a2a627b4707b",
   "metadata": {},
   "outputs": [],
   "source": [
    "cur.execute(\"SELECT * FROM funcionarios\")\n",
    "results = cur.fetchall()\n",
    "for row in results:\n",
    "    print(row)"
   ]
  },
  {
   "cell_type": "markdown",
   "id": "dcfb57ac-7342-4a6a-9609-841f987b5ed6",
   "metadata": {},
   "source": [
    "### Distribuição Normal por idade"
   ]
  },
  {
   "cell_type": "code",
   "execution_count": null,
   "id": "c183c9fd-c0fc-4f1d-bee2-8dea248feabe",
   "metadata": {},
   "outputs": [],
   "source": [
    "import matplotlib.pyplot as plt\n",
    "import numpy as np"
   ]
  },
  {
   "cell_type": "code",
   "execution_count": null,
   "id": "be45a836-c699-449d-8879-a1444fe5cd32",
   "metadata": {},
   "outputs": [],
   "source": [
    "mu, sigma = 0, 0.1 # média e desvio padrão\n",
    "dados = np.random.normal(mu, sigma, 1000)\n",
    "\n",
    "count, bins, ignored = plt.hist(dados, 30, density=True)\n",
    "curva_normal = 1/(sigma * np.sqrt(2 * np.pi)) * np.exp(-(bins - mu)**2 / (2 * sigma**2))\n",
    "plt.plot(bins, curva_normal, linewidth=2, color='r')\n",
    "plt.show()"
   ]
  },
  {
   "cell_type": "markdown",
   "id": "3aaf495d-7d64-4977-b8b0-d8fd576cf44d",
   "metadata": {},
   "source": [
    "## Mostrar a Distribuição Normal por Idade?"
   ]
  },
  {
   "cell_type": "code",
   "execution_count": null,
   "id": "27ce8eae-aa91-4708-9c7e-2efbd68f9a4a",
   "metadata": {},
   "outputs": [],
   "source": [
    "cur.execute(\"SELECT idade FROM funcionarios ORDER BY idade\")\n",
    "results = cur.fetchall()"
   ]
  },
  {
   "cell_type": "code",
   "execution_count": null,
   "id": "f61bd44a-5190-4162-a9cb-f009fff873bc",
   "metadata": {},
   "outputs": [],
   "source": [
    "x = []\n",
    "for row in results:\n",
    "    x.append(row[0])"
   ]
  },
  {
   "cell_type": "code",
   "execution_count": null,
   "id": "d48308eb-8f0d-4ac8-a4ed-69edc45e5a1b",
   "metadata": {},
   "outputs": [],
   "source": [
    "import statistics\n",
    "\n",
    "mu = statistics.mean(x)\n",
    "sigma = statistics.stdev(x)"
   ]
  },
  {
   "cell_type": "code",
   "execution_count": null,
   "id": "17b69f9d-1546-4a68-a620-043f35225e7f",
   "metadata": {},
   "outputs": [],
   "source": [
    "count, bins, ignored = plt.hist(x, 30, density=True)\n",
    "curva_normal = 1/(sigma * np.sqrt(2 * np.pi)) * np.exp(-(bins - mu)**2 / (2 * sigma**2))\n",
    "plt.plot(bins, curva_normal, linewidth=2, color='r')\n",
    "plt.show()"
   ]
  },
  {
   "cell_type": "markdown",
   "id": "9ba2756e-4fad-4a4a-b0ff-306649467b28",
   "metadata": {},
   "source": [
    "Exercícios:\n",
    "\n",
    "1. Criar um campo chamado DDD\n",
    "2. Corrigir telefones conforme a seguinte regra:\n",
    "   a. Que iniciam com 0 e 1 DDD = 11 - São Paulo\n",
    "   b. Que iniciam com 2 e 3 DDD = 21 - Rio de Janeiro\n",
    "   c. Que iniciam com 4 e 5 DDD = 31 - Minas Gerais\n",
    "   d. Que iniciam com 6 e 7 DDD = 41 - Paraná\n",
    "   e. Que iniciam com 8 e 9 DDD = 61 - Distrito Federal\n",
    "3. Mostrar um gráfico por Estado e Qtd de Funcionários\n",
    "4. Mostrar um gráfico por Idade por Estado"
   ]
  },
  {
   "cell_type": "code",
   "execution_count": null,
   "id": "9b6c8499-a5b2-47c8-9024-0bfba35f1b89",
   "metadata": {},
   "outputs": [],
   "source": [
    "con.close()"
   ]
  },
  {
   "cell_type": "markdown",
   "id": "5766ad45-e386-4582-9d51-c5e9134a9f3f",
   "metadata": {},
   "source": [
    "# NoSQL"
   ]
  },
  {
   "attachments": {
    "1c1f4b61-ed0f-44d6-b992-012e6af2df26.png": {
     "image/png": "[encoded data removed]"
    }
   },
   "cell_type": "markdown",
   "id": "27953b6b-1cf3-410e-ac96-e6ad8cab468b",
   "metadata": {},
   "source": [
    "![NoSQL.png](attachment:1c1f4b61-ed0f-44d6-b992-012e6af2df26.png)"
   ]
  },
  {
   "cell_type": "markdown",
   "id": "ed9e01f7-b201-49b4-a46d-7185b167a77e",
   "metadata": {},
   "source": [
    "## Orientados a Documento - MongoDB"
   ]
  },
  {
   "cell_type": "code",
   "execution_count": null,
   "id": "cc9f4794-1218-4ef5-b39e-6030c6ca05b0",
   "metadata": {},
   "outputs": [],
   "source": [
    "!pip install pymongo"
   ]
  },
  {
   "cell_type": "code",
   "execution_count": null,
   "id": "dcbdba1b-a3b8-420d-bed9-a12c476cb98b",
   "metadata": {},
   "outputs": [],
   "source": [
    "from pymongo import MongoClient"
   ]
  },
  {
   "cell_type": "code",
   "execution_count": null,
   "id": "4b0e0f54-e1d7-40cb-9231-0374c0d3fb3d",
   "metadata": {},
   "outputs": [],
   "source": [
    "cliente = MongoClient('localhost', 27017)"
   ]
  },
  {
   "cell_type": "code",
   "execution_count": null,
   "id": "10423dc8-68f5-49eb-ba74-5d73b8e40653",
   "metadata": {},
   "outputs": [],
   "source": [
    "cliente.list_database_names()"
   ]
  },
  {
   "cell_type": "markdown",
   "id": "82f82011-b8ec-4e13-9329-2d5fdeaad269",
   "metadata": {},
   "source": [
    "### Acessar um Database"
   ]
  },
  {
   "cell_type": "code",
   "execution_count": null,
   "id": "ab3c8792-aa90-4c59-97ee-728523708be0",
   "metadata": {},
   "outputs": [],
   "source": [
    "db = cliente.iesb"
   ]
  },
  {
   "cell_type": "code",
   "execution_count": null,
   "id": "936b940d-5bdb-483d-ac41-85e2f917d34b",
   "metadata": {},
   "outputs": [],
   "source": [
    "col = db.list_collection_names()"
   ]
  },
  {
   "cell_type": "code",
   "execution_count": null,
   "id": "1328a5ea-3764-4798-b36d-51e12917547e",
   "metadata": {},
   "outputs": [],
   "source": [
    "for c in col:\n",
    "    print(c)"
   ]
  },
  {
   "cell_type": "markdown",
   "id": "ff8caa29-1360-4cd4-a78d-30416281842e",
   "metadata": {},
   "source": [
    "### Acessar uma coleção"
   ]
  },
  {
   "cell_type": "code",
   "execution_count": null,
   "id": "581b2468-27f6-4bf7-baaf-cbdc52319349",
   "metadata": {},
   "outputs": [],
   "source": [
    "colA = db.aluno"
   ]
  },
  {
   "cell_type": "code",
   "execution_count": null,
   "id": "4ccc73e9-e13c-4249-bb5f-5c5c8fdc3a26",
   "metadata": {},
   "outputs": [],
   "source": [
    "for d in colA.find({}):\n",
    "    print(d)"
   ]
  },
  {
   "cell_type": "markdown",
   "id": "b3045528-8d80-4849-8cf2-dac1cc5a63a3",
   "metadata": {},
   "source": [
    "### Inserir um Documento"
   ]
  },
  {
   "cell_type": "code",
   "execution_count": null,
   "id": "ec00aede-6cb8-4674-8ad1-72fef7fe45e8",
   "metadata": {},
   "outputs": [],
   "source": [
    "import random"
   ]
  },
  {
   "cell_type": "code",
   "execution_count": null,
   "id": "2945f6ac-e1c9-485d-bef0-1cbc87b4c3f7",
   "metadata": {},
   "outputs": [],
   "source": [
    "mario = {\"nome\": \"Mario da Silva\", \"nota\": random.randint(1,10)}\n",
    "colA.insert_one(mario)"
   ]
  },
  {
   "cell_type": "code",
   "execution_count": null,
   "id": "9d51c1ab-219e-4470-89e6-d65e4712bcfd",
   "metadata": {},
   "outputs": [],
   "source": [
    "alunos = [\n",
    "    {\"nome\": \"Aline Moraes\", \"nota\": random.randint(1,10), \"sala\": 10},\n",
    "    {\"nome\": \"Soraya Gomes\", \"nota\": random.randint(1,10), \"funcionario\": \"AJT\"} \n",
    "]\n",
    "colA.insert_many(alunos)"
   ]
  },
  {
   "cell_type": "code",
   "execution_count": null,
   "id": "cb68247d-4647-4c43-b874-37e7f0799410",
   "metadata": {},
   "outputs": [],
   "source": [
    "cliente.drop_database('iesb')"
   ]
  },
  {
   "cell_type": "code",
   "execution_count": null,
   "id": "c429ef48-9f93-45bc-a83a-7698e594ca4c",
   "metadata": {},
   "outputs": [],
   "source": [
    "cliente.close()"
   ]
  },
  {
   "cell_type": "markdown",
   "id": "98f6980f-9ee9-423a-922e-c72cee4dae48",
   "metadata": {},
   "source": [
    "## Orientados a Chave Valor - Redis"
   ]
  },
  {
   "cell_type": "code",
   "execution_count": null,
   "id": "77ceba4e-4c0b-473f-a0cc-4fda35c7c586",
   "metadata": {},
   "outputs": [],
   "source": [
    "!pip install redis"
   ]
  },
  {
   "cell_type": "code",
   "execution_count": null,
   "id": "bc11c68e-2de4-49e3-859f-8c937479fab0",
   "metadata": {},
   "outputs": [],
   "source": [
    "import redis"
   ]
  },
  {
   "cell_type": "code",
   "execution_count": null,
   "id": "79b54de5-c6d2-474e-acf4-c088c784ade9",
   "metadata": {},
   "outputs": [],
   "source": [
    "redis_db = redis.Redis(host='localhost', port=6379, db=0)"
   ]
  },
  {
   "cell_type": "markdown",
   "id": "23e0aecf-79f4-4d43-a75b-ee9e6d639a9e",
   "metadata": {},
   "source": [
    "### Chave Valor"
   ]
  },
  {
   "cell_type": "code",
   "execution_count": null,
   "id": "6e25ef65-aed4-4460-896b-a48dc42cefe8",
   "metadata": {},
   "outputs": [],
   "source": [
    "redis_db.set('chave', 'valor')"
   ]
  },
  {
   "cell_type": "code",
   "execution_count": null,
   "id": "651c6329-0fe8-40d4-8ed3-57f83affb0c0",
   "metadata": {},
   "outputs": [],
   "source": [
    "valor = redis_db.get('chave').decode('UTF-8')\n",
    "print(valor)"
   ]
  },
  {
   "cell_type": "code",
   "execution_count": null,
   "id": "801d79dc-13f8-4b81-8485-e76d86f20193",
   "metadata": {},
   "outputs": [],
   "source": [
    "redis_db.set('chave', 120)"
   ]
  },
  {
   "cell_type": "code",
   "execution_count": null,
   "id": "7cc1bb01-d01e-484f-8b0b-faa40cc3994e",
   "metadata": {},
   "outputs": [],
   "source": [
    "redis_db.keys()"
   ]
  },
  {
   "cell_type": "code",
   "execution_count": null,
   "id": "cde6c38f-5e35-4917-8a6b-f9f7a1bf311d",
   "metadata": {},
   "outputs": [],
   "source": [
    "redis_db.close()"
   ]
  },
  {
   "cell_type": "markdown",
   "id": "cee69c1b-90cf-416e-a5e6-8ee96d355953",
   "metadata": {},
   "source": [
    "### Orientados a Grafo - Neo4J "
   ]
  },
  {
   "cell_type": "code",
   "execution_count": null,
   "id": "db19c98d-f0f0-4d50-a1b0-f1e1c1f0ae3c",
   "metadata": {},
   "outputs": [],
   "source": [
    "!pip install neo4j"
   ]
  },
  {
   "cell_type": "code",
   "execution_count": null,
   "id": "4d2bfc1e-8d33-4559-a651-eecfd41d5004",
   "metadata": {},
   "outputs": [],
   "source": [
    "from neo4j import GraphDatabase"
   ]
  },
  {
   "cell_type": "code",
   "execution_count": null,
   "id": "08602806-10fc-43a6-acfc-559768c6d7d3",
   "metadata": {},
   "outputs": [],
   "source": [
    "uri = \"bolt://localhost:7687\"\n",
    "user = \"neo4j\"\n",
    "password = \"test\"\n",
    "driver = GraphDatabase.driver(uri, auth=(user, password))"
   ]
  },
  {
   "cell_type": "code",
   "execution_count": null,
   "id": "64d011e2-be08-46d4-b600-65aa84c6769a",
   "metadata": {},
   "outputs": [],
   "source": [
    "def create_node(tx, label, **properties):\n",
    "    query = f\"CREATE (n:{label} {{\"\n",
    "    for key, value in properties.items():\n",
    "        query += f\"{key}: '{value}', \"\n",
    "    query = query[:-2] + \"})\"\n",
    "    print(query)\n",
    "    tx.run(query)"
   ]
  },
  {
   "cell_type": "code",
   "execution_count": null,
   "id": "e886c515-c257-4402-85e4-8fc0019ebcc0",
   "metadata": {},
   "outputs": [],
   "source": [
    "def create_relationship(tx, node1_id, node2_id, rel_type):\n",
    "    query = f\"MATCH (n1), (n2) WHERE ID(n1) = {node1_id} AND ID(n2) = {node2_id} CREATE (n1)-[:{rel_type}]->(n2)\"\n",
    "    tx.run(query)"
   ]
  },
  {
   "cell_type": "code",
   "execution_count": null,
   "id": "1c2ee776-b7c0-41f9-9b0a-a1c80ac2f2e5",
   "metadata": {},
   "outputs": [],
   "source": [
    "with driver.session() as session:\n",
    "    session.execute_write(create_node, \"Pessoa\", nome=\"William\")\n",
    "    session.execute_write(create_node, \"Pessoa\", nome=\"Joel\")"
   ]
  },
  {
   "cell_type": "code",
   "execution_count": null,
   "id": "3ea547a7-4513-4293-9c2b-06ed98ab5ecf",
   "metadata": {},
   "outputs": [],
   "source": [
    "with driver.session() as session:\n",
    "    session.execute_write(create_relationship, 12, 13, \"AlunoDS\")"
   ]
  },
  {
   "cell_type": "code",
   "execution_count": null,
   "id": "9d0a7df4-631f-486b-9150-2da308019b61",
   "metadata": {},
   "outputs": [],
   "source": [
    "driver.close()"
   ]
  },
  {
   "cell_type": "markdown",
   "id": "f43a63b8-1a0e-4c73-a061-6046bbd7eaf3",
   "metadata": {},
   "source": [
    "### Orientados a Coluna - Apache Cassandra"
   ]
  },
  {
   "cell_type": "code",
   "execution_count": null,
   "id": "b52d4cc7-02b2-4234-832d-2899d28bf1d4",
   "metadata": {},
   "outputs": [],
   "source": [
    "!pip install cassandra-driver"
   ]
  },
  {
   "cell_type": "code",
   "execution_count": 1,
   "id": "2ac8133c-d639-4159-a17b-71ca5b3f2c37",
   "metadata": {},
   "outputs": [],
   "source": [
    "from cassandra.cluster import Cluster\n",
    "from cassandra.query import SimpleStatement"
   ]
  },
  {
   "cell_type": "code",
   "execution_count": 2,
   "id": "896afc29-97f9-4bfa-bb74-db80baa18dbd",
   "metadata": {},
   "outputs": [],
   "source": [
    "cluster = Cluster()\n",
    "session = cluster.connect()"
   ]
  },
  {
   "cell_type": "code",
   "execution_count": 4,
   "id": "e199c552-f920-4537-a81f-d16411947f61",
   "metadata": {},
   "outputs": [
    {
     "data": {
      "text/plain": [
       "<cassandra.cluster.ResultSet at 0x7f4870d44fd0>"
      ]
     },
     "execution_count": 4,
     "metadata": {},
     "output_type": "execute_result"
    }
   ],
   "source": [
    "session.execute(\"\"\"\n",
    "    CREATE KEYSPACE teste\n",
    "    WITH replication={'class': 'SimpleStrategy', 'replication_factor': 1}\n",
    "\"\"\")    "
   ]
  },
  {
   "cell_type": "code",
   "execution_count": 5,
   "id": "e93298b2-c55e-4b5d-9850-33d8e80a4e2c",
   "metadata": {},
   "outputs": [
    {
     "data": {
      "text/plain": [
       "<cassandra.cluster.ResultSet at 0x7f4870516fa0>"
      ]
     },
     "execution_count": 5,
     "metadata": {},
     "output_type": "execute_result"
    }
   ],
   "source": [
    "session.execute(\"USE teste;\")"
   ]
  },
  {
   "cell_type": "code",
   "execution_count": 6,
   "id": "295c40f6-b8fe-4d18-951d-bf4e12ae0387",
   "metadata": {},
   "outputs": [
    {
     "data": {
      "text/plain": [
       "<cassandra.cluster.ResultSet at 0x7f4870d9a430>"
      ]
     },
     "execution_count": 6,
     "metadata": {},
     "output_type": "execute_result"
    }
   ],
   "source": [
    "session.execute(\"\"\"\n",
    "    CREATE TABLE usuarios(id int primary key,\n",
    "    nome text, creditos int)\n",
    "\"\"\")"
   ]
  },
  {
   "cell_type": "code",
   "execution_count": 9,
   "id": "a5716d83-de66-4dcb-b8ec-dd93aa182709",
   "metadata": {},
   "outputs": [
    {
     "data": {
      "text/plain": [
       "<cassandra.cluster.ResultSet at 0x7f48704b31c0>"
      ]
     },
     "execution_count": 9,
     "metadata": {},
     "output_type": "execute_result"
    }
   ],
   "source": [
    "session.execute(\n",
    "    \"INSERT INTO usuarios (nome, creditos, id) VALUES (%s, %s, %s)\",\n",
    "    ('Fernando', 42, 1))"
   ]
  },
  {
   "cell_type": "code",
   "execution_count": 16,
   "id": "d787e61c-3749-48fd-8f4f-dc27712014d2",
   "metadata": {},
   "outputs": [],
   "source": [
    "rows = session.execute(\n",
    "    \"SELECT nome, creditos FROM usuarios\")"
   ]
  },
  {
   "cell_type": "code",
   "execution_count": 17,
   "id": "c5246aee-3dbc-4e6e-9a80-e796115af3f6",
   "metadata": {},
   "outputs": [
    {
     "name": "stdout",
     "output_type": "stream",
     "text": [
      "Fernando 42\n"
     ]
    }
   ],
   "source": [
    "for u in rows:\n",
    "    print(u.nome, u.creditos)"
   ]
  },
  {
   "cell_type": "code",
   "execution_count": 19,
   "id": "576c1b24-9c5b-45fe-b761-1b582dae1be6",
   "metadata": {},
   "outputs": [
    {
     "name": "stdout",
     "output_type": "stream",
     "text": [
      "6\n"
     ]
    }
   ],
   "source": [
    "c = 2\n",
    "for a in range(1,10):\n",
    "    if (a % 2 == 0):\n",
    "        c += 1\n",
    "print(c)     "
   ]
  },
  {
   "cell_type": "code",
   "execution_count": null,
   "id": "81acb1e5-eb61-422f-8ec9-58d80e1b6162",
   "metadata": {},
   "outputs": [],
   "source": []
  }
 ],
 "metadata": {
  "kernelspec": {
   "display_name": "Python 3 (ipykernel)",
   "language": "python",
   "name": "python3"
  },
  "language_info": {
   "codemirror_mode": {
    "name": "ipython",
    "version": 3
   },
   "file_extension": ".py",
   "mimetype": "text/x-python",
   "name": "python",
   "nbconvert_exporter": "python",
   "pygments_lexer": "ipython3",
   "version": "3.9.2"
  }
 },
 "nbformat": 4,
 "nbformat_minor": 5
}
