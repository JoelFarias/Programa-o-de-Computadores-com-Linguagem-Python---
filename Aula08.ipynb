{
 "cells": [
  {
   "cell_type": "code",
   "execution_count": null,
   "id": "35a575ba-d9cb-4d55-9e05-7c20d200ac5f",
   "metadata": {},
   "outputs": [],
   "source": [
    "import matplotlib.pyplot as plt\n",
    "import numpy as np\n",
    "%matplotlib inline"
   ]
  },
  {
   "cell_type": "code",
   "execution_count": null,
   "id": "fb01c60d-3521-440b-8b43-1e19988c5ceb",
   "metadata": {},
   "outputs": [],
   "source": [
    "# Para atualizar o Matplotlib abra o prompt de comando ou terminal e digite: \n",
    "!pip install matplotlib -U"
   ]
  },
  {
   "cell_type": "code",
   "execution_count": null,
   "id": "f1180fed-e4f3-4034-ad5b-19162b5844ac",
   "metadata": {},
   "outputs": [],
   "source": [
    "x = np.linspace(0, 2*np.pi, 100)\n",
    "y = np.sin(x)\n",
    "z = np.cos(x)\n",
    "plt.plot(x,y)\n",
    "plt.plot(x,z)\n",
    "plt.show()"
   ]
  },
  {
   "cell_type": "markdown",
   "id": "40511a80-059a-487a-883a-e94df1ef5da1",
   "metadata": {},
   "source": [
    "## Construindo Plots"
   ]
  },
  {
   "cell_type": "code",
   "execution_count": null,
   "id": "83dea055-0c9f-4c63-9eae-19b5c715e72c",
   "metadata": {},
   "outputs": [],
   "source": [
    "import matplotlib as mpl\n",
    "mpl.__version__"
   ]
  },
  {
   "cell_type": "code",
   "execution_count": null,
   "id": "ca0bdef6-e862-4921-abc8-10631e35741b",
   "metadata": {},
   "outputs": [],
   "source": [
    "# O matplotlib.pyplot é uma coleção de funções e estilos que fazem com que o Matplotlib funcione como o Matlab.\n",
    "import matplotlib.pyplot as plt\n",
    "%matplotlib inline"
   ]
  },
  {
   "cell_type": "code",
   "execution_count": null,
   "id": "0f038e90-d6a4-4e94-98e3-718717e36d3a",
   "metadata": {},
   "outputs": [],
   "source": [
    "# O método plot() define os eixos do gráfico\n",
    "plt.plot([1, 3, 5], [2, 5, 7])\n",
    "plt.show()"
   ]
  },
  {
   "cell_type": "code",
   "execution_count": null,
   "id": "fbfd8c88-d843-4c0e-a238-483e8a257d6b",
   "metadata": {},
   "outputs": [],
   "source": [
    "x = [1, 4, 5]"
   ]
  },
  {
   "cell_type": "code",
   "execution_count": null,
   "id": "7e1a51c1-1356-48a6-9d6b-3338c61b9208",
   "metadata": {},
   "outputs": [],
   "source": [
    "y = [3, 7, 2]"
   ]
  },
  {
   "cell_type": "code",
   "execution_count": null,
   "id": "27ef4ee1-9820-41a7-9d05-e43232876f55",
   "metadata": {},
   "outputs": [],
   "source": [
    "plt.plot(x, y)\n",
    "plt.xlabel('Variável 1')\n",
    "plt.ylabel('Variável 2')\n",
    "plt.title('Teste Plot')\n",
    "plt.show()"
   ]
  },
  {
   "cell_type": "code",
   "execution_count": null,
   "id": "82afcf21-c1b0-4139-bbf3-3ddc18b97713",
   "metadata": {},
   "outputs": [],
   "source": [
    "x2 = [1, 2, 3]\n",
    "y2 = [11, 12, 15]"
   ]
  },
  {
   "cell_type": "code",
   "execution_count": null,
   "id": "5639605d-f92a-457c-889a-734985b8f13f",
   "metadata": {},
   "outputs": [],
   "source": [
    "plt.plot(x2, y2, label = 'Primeira Linha')\n",
    "plt.legend()\n",
    "plt.show()"
   ]
  },
  {
   "cell_type": "markdown",
   "id": "eafdf630-65f9-4c5f-9d12-5da252551e3c",
   "metadata": {},
   "source": [
    "## Gráficos de Barras"
   ]
  },
  {
   "cell_type": "code",
   "execution_count": null,
   "id": "419e63f4-29f6-42b6-974a-cc1324e298aa",
   "metadata": {},
   "outputs": [],
   "source": [
    "x = [2,4,6,8,10]\n",
    "y = [6,7,8,2,4]"
   ]
  },
  {
   "cell_type": "code",
   "execution_count": null,
   "id": "28551978-be2b-4031-ac89-910edc82e546",
   "metadata": {},
   "outputs": [],
   "source": [
    "plt.bar(x, y, label = 'Barras', color = 'r')\n",
    "plt.legend()\n",
    "plt.show()"
   ]
  },
  {
   "cell_type": "code",
   "execution_count": null,
   "id": "b5ef6405-5d90-49ca-bebe-c48512173a59",
   "metadata": {},
   "outputs": [],
   "source": [
    "x2 = [1,3,5,7,9]\n",
    "y2 = [7,8,2,4,2]"
   ]
  },
  {
   "cell_type": "code",
   "execution_count": null,
   "id": "e3637462-8e72-4426-9ae1-a34a6c68518f",
   "metadata": {},
   "outputs": [],
   "source": [
    "plt.bar(x, y, label = 'Barras1', color = 'r')\n",
    "plt.bar(x2, y2, label = 'Barras2', color = 'y')\n",
    "plt.legend()\n",
    "plt.show()"
   ]
  },
  {
   "cell_type": "code",
   "execution_count": null,
   "id": "5d770dee-8de5-48fe-bfc2-b89aa4a760d0",
   "metadata": {},
   "outputs": [],
   "source": [
    "idades = [22,65,45,55,21,22,34,42,41,4,99,101,120,122,130,111,115,80,75,54,44,64,13,18,48]"
   ]
  },
  {
   "cell_type": "code",
   "execution_count": null,
   "id": "5fadd417-8d23-4057-b16c-7691613daad8",
   "metadata": {},
   "outputs": [],
   "source": [
    "ids = [x for x in range(len(idades))]"
   ]
  },
  {
   "cell_type": "code",
   "execution_count": null,
   "id": "eeace698-c947-4389-8fc0-56327aeabd15",
   "metadata": {},
   "outputs": [],
   "source": [
    "plt.bar(ids, idades)\n",
    "plt.show()"
   ]
  },
  {
   "cell_type": "code",
   "execution_count": null,
   "id": "b93a3f53-090e-44a4-84d5-80916c73bbf5",
   "metadata": {},
   "outputs": [],
   "source": [
    "bins = [0,10,20,30,40,50,60,70,80,90,100,110,120,130]"
   ]
  },
  {
   "cell_type": "code",
   "execution_count": null,
   "id": "10faa6da-94da-42bc-b600-c5056c998974",
   "metadata": {},
   "outputs": [],
   "source": [
    "plt.hist(idades, bins, histtype = 'bar', rwidth = 0.8)\n",
    "plt.show()"
   ]
  },
  {
   "cell_type": "code",
   "execution_count": null,
   "id": "76c76e20-f601-44fe-a4e8-42c3a07800b5",
   "metadata": {},
   "outputs": [],
   "source": [
    "plt.hist(idades, bins, histtype = 'stepfilled', rwidth = 0.8)\n",
    "plt.show()"
   ]
  },
  {
   "cell_type": "markdown",
   "id": "5d7478f3-7da1-48fc-b04a-d6955424e8f9",
   "metadata": {},
   "source": [
    "## Scatterplot"
   ]
  },
  {
   "cell_type": "code",
   "execution_count": null,
   "id": "1ebb3127-5835-411c-9d45-17cc5ab0ffce",
   "metadata": {},
   "outputs": [],
   "source": [
    "x = [1,2,3,4,5,6,7,8]\n",
    "y = [5,2,4,5,6,8,4,8]"
   ]
  },
  {
   "cell_type": "code",
   "execution_count": null,
   "id": "fc01c3b3-8637-4d87-bd6f-c41b250d5aa3",
   "metadata": {},
   "outputs": [],
   "source": [
    "plt.scatter(x, y, label = 'Pontos', color = 'r', marker = 'o', s = 100)\n",
    "plt.legend()\n",
    "plt.show()"
   ]
  },
  {
   "cell_type": "markdown",
   "id": "f56ac03b-ecca-4154-b642-bb356ba1a456",
   "metadata": {},
   "source": [
    "## Stack Plots"
   ]
  },
  {
   "cell_type": "code",
   "execution_count": null,
   "id": "6262a49e-862b-4947-8b64-f8245fdccfa9",
   "metadata": {},
   "outputs": [],
   "source": [
    "dias = [1,2,3,4,5]\n",
    "dormir = [7,8,6,77,7]\n",
    "comer = [2,3,4,5,3]\n",
    "trabalhar = [7,8,7,2,2]\n",
    "passear = [8,5,7,8,13]"
   ]
  },
  {
   "cell_type": "code",
   "execution_count": null,
   "id": "9ef984ad-b0d4-4723-8f5e-e660c79e26db",
   "metadata": {},
   "outputs": [],
   "source": [
    "plt.stackplot(dias, dormir, comer, trabalhar, passear, colors = ['m','c','r','k','b'])\n",
    "plt.show()"
   ]
  },
  {
   "cell_type": "markdown",
   "id": "fecc9a42-7217-4401-bb28-5252efe7d66a",
   "metadata": {},
   "source": [
    "## Pie Chart"
   ]
  },
  {
   "cell_type": "code",
   "execution_count": null,
   "id": "273b69df-e1c1-4063-994e-81c7d01abcf0",
   "metadata": {},
   "outputs": [],
   "source": [
    "fatias = [7, 2, 2, 13]\n",
    "atividades = ['dormir','comer','trabalhar','passear']\n",
    "colunas = ['c','m','r','k']"
   ]
  },
  {
   "cell_type": "code",
   "execution_count": null,
   "id": "97e21372-3795-4d2a-b77c-40979b26d5c3",
   "metadata": {},
   "outputs": [],
   "source": [
    "plt.pie(fatias, labels = atividades, colors = colunas, startangle = 90, shadow = True, explode = (0,0.1,0,0))\n",
    "plt.show()"
   ]
  },
  {
   "cell_type": "markdown",
   "id": "bd1064c5-a750-4f1a-930f-48bed0fe43bf",
   "metadata": {},
   "source": [
    "## Pylab"
   ]
  },
  {
   "cell_type": "code",
   "execution_count": null,
   "id": "a7d5b538-60d3-4c52-81c2-c55ed3312bf4",
   "metadata": {},
   "outputs": [],
   "source": [
    "# Visualizando os gráfico dentro do Jupyter Notebook\n",
    "# O Pylab combina funcionalidades do pyplot com funcionalidades do Numpy\n",
    "from pylab import *\n",
    "%matplotlib inline"
   ]
  },
  {
   "cell_type": "code",
   "execution_count": null,
   "id": "5d0c5a2f-821e-4fb8-9af6-ff1e0c96c25b",
   "metadata": {},
   "outputs": [],
   "source": [
    "x = linspace(0, 5, 10)\n",
    "y = x ** 2\n",
    "\n",
    "fig = plt.figure()\n",
    "\n",
    "# Definindo os eixos\n",
    "axes = fig.add_axes([0.1, 0.1, 0.8, 0.8])\n",
    "\n",
    "axes.plot(x, y, 'r')\n",
    "\n",
    "axes.set_xlabel('x')\n",
    "axes.set_ylabel('y')\n",
    "axes.set_title('Gráfico de Linha');"
   ]
  },
  {
   "cell_type": "code",
   "execution_count": null,
   "id": "82948bf4-266c-4877-8036-50b64fe0c6cb",
   "metadata": {},
   "outputs": [],
   "source": [
    "# Gráficos com 2 figuras\n",
    "x = linspace(0, 5, 10)\n",
    "y = x ** 2\n",
    "\n",
    "fig = plt.figure()\n",
    "\n",
    "axes1 = fig.add_axes([0.1, 0.1, 0.8, 0.8]) # eixos da figura principal\n",
    "axes2 = fig.add_axes([0.2, 0.5, 0.4, 0.3]) # eixos da figura secundária\n",
    "\n",
    "# Figura principal\n",
    "axes1.plot(x, y, 'r')\n",
    "axes1.set_xlabel('x')\n",
    "axes1.set_ylabel('y')\n",
    "axes1.set_title('Figura Principal')\n",
    "\n",
    "# Figura secundária\n",
    "axes2.plot(y, x, 'g')\n",
    "axes2.set_xlabel('y')\n",
    "axes2.set_ylabel('x')\n",
    "axes2.set_title('Figura Secundária');"
   ]
  },
  {
   "cell_type": "code",
   "execution_count": null,
   "id": "37e9b2f9-6e22-4537-9c86-6341693d484c",
   "metadata": {},
   "outputs": [],
   "source": [
    "# Gráficos em Paralelo\n",
    "fig, axes = plt.subplots(nrows = 1, ncols = 2)\n",
    "\n",
    "for ax in axes:\n",
    "    ax.plot(x, y, 'r')\n",
    "    ax.set_xlabel('x')\n",
    "    ax.set_ylabel('y')\n",
    "    ax.set_title('Título')\n",
    "    \n",
    "fig.tight_layout()"
   ]
  },
  {
   "cell_type": "markdown",
   "id": "a86e69c8-11bf-40c0-956d-23258dfb4bd5",
   "metadata": {},
   "source": [
    "## Gráficos a partir do NumPy"
   ]
  },
  {
   "cell_type": "code",
   "execution_count": null,
   "id": "b7c90e86-efe4-4e0a-9d03-d3148df3389c",
   "metadata": {},
   "outputs": [],
   "source": [
    "import matplotlib.pyplot as plt\n",
    "import numpy as np\n",
    "%matplotlib inline"
   ]
  },
  {
   "cell_type": "code",
   "execution_count": null,
   "id": "2c02990d-0f15-4693-bc7b-33ccf47364a6",
   "metadata": {},
   "outputs": [],
   "source": [
    "plt.scatter(np.arange(50), np.random.randn(50))\n",
    "plt.show()"
   ]
  },
  {
   "cell_type": "code",
   "execution_count": null,
   "id": "2845a13d-e554-4f85-95bb-31859b237d09",
   "metadata": {},
   "outputs": [],
   "source": [
    "# Plot e Scatter\n",
    "fig = plt.figure()\n",
    "\n",
    "ax1 = fig.add_subplot(1,2,1)\n",
    "ax1.plot(np.random.randn(50), color='red')\n",
    "\n",
    "ax2 = fig.add_subplot(1,2,2)\n",
    "ax2.scatter(np.arange(50), np.random.randn(50))\n",
    "plt.show()"
   ]
  },
  {
   "cell_type": "code",
   "execution_count": null,
   "id": "a73cf687-635f-4295-8724-9103c551aaa1",
   "metadata": {},
   "outputs": [],
   "source": [
    "# Plots diversos\n",
    "_, ax = plt.subplots(2,3)\n",
    "\n",
    "ax[0,1].plot(np.random.randn(50), color = 'green', linestyle = '-')\n",
    "ax[1,0].hist(np.random.randn(50))\n",
    "ax[1,2].scatter(np.arange(50), np.random.randn(50), color = 'red')\n",
    "plt.show()"
   ]
  },
  {
   "cell_type": "code",
   "execution_count": null,
   "id": "b26bd38b-3c15-40ac-b9d5-a9b5d8a739ff",
   "metadata": {},
   "outputs": [],
   "source": [
    "# Controle dos eixos\n",
    "fig, axes = plt.subplots(1, 3, figsize = (12, 4))\n",
    "\n",
    "axes[0].plot(x, x**2, x, x**3)\n",
    "axes[0].set_title(\"Eixos com range padrão\")\n",
    "\n",
    "axes[1].plot(x, x**2, x, x**3)\n",
    "axes[1].axis('tight')\n",
    "axes[1].set_title(\"Eixos menores\")\n",
    "\n",
    "axes[2].plot(x, x**2, x, x**3)\n",
    "axes[2].set_ylim([0, 60])\n",
    "axes[2].set_xlim([2, 5])\n",
    "axes[2].set_title(\"Eixos customizados\");"
   ]
  },
  {
   "cell_type": "code",
   "execution_count": null,
   "id": "647ed8ee-3c22-4aad-88aa-571d8f3e91e1",
   "metadata": {},
   "outputs": [],
   "source": [
    "# Escala\n",
    "fig, axes = plt.subplots(1, 2, figsize=(10,4))\n",
    "      \n",
    "axes[0].plot(x, x**2, x, exp(x))\n",
    "axes[0].set_title(\"Escala Padrão\")\n",
    "\n",
    "axes[1].plot(x, x**2, x, exp(x))\n",
    "axes[1].set_yscale(\"log\")\n",
    "axes[1].set_title(\"Escala Logaritmica (y)\");"
   ]
  },
  {
   "cell_type": "code",
   "execution_count": null,
   "id": "90fd0e2b-2e8d-4511-9782-4807d4b41592",
   "metadata": {},
   "outputs": [],
   "source": [
    "# Grid\n",
    "fig, axes = plt.subplots(1, 2, figsize=(10,3))\n",
    "\n",
    "# Grid padrão\n",
    "axes[0].plot(x, x**2, x, x**3, lw = 2)\n",
    "axes[0].grid(True)\n",
    "\n",
    "# Grid customizado\n",
    "axes[1].plot(x, x**2, x, x**3, lw = 2)\n",
    "axes[1].grid(color = 'b', alpha = 0.5, linestyle = 'dashed', linewidth = 0.5)"
   ]
  },
  {
   "cell_type": "code",
   "execution_count": null,
   "id": "481dbd10-106a-42f8-8eb3-e12ca79e133c",
   "metadata": {},
   "outputs": [],
   "source": [
    "# Gráfico de Linhas Gêmeas\n",
    "fig, ax1 = plt.subplots()\n",
    "\n",
    "ax1.plot(x, x**2, lw=2, color=\"blue\")\n",
    "ax1.set_ylabel(\"Area\", fontsize=18, color=\"blue\")\n",
    "for label in ax1.get_yticklabels():\n",
    "    label.set_color(\"blue\")\n",
    "    \n",
    "ax2 = ax1.twinx()\n",
    "ax2.plot(x, x**3, lw=2, color=\"red\")\n",
    "ax2.set_ylabel(\"Volume\", fontsize=18, color=\"red\")\n",
    "for label in ax2.get_yticklabels():\n",
    "    label.set_color(\"red\")"
   ]
  },
  {
   "cell_type": "code",
   "execution_count": null,
   "id": "926bd59c-7741-4d66-8258-ecc5b9f36512",
   "metadata": {},
   "outputs": [],
   "source": [
    "# Diferentes estilos de Plots\n",
    "xx = np.linspace(-0.75, 1., 100)\n",
    "n = np.array([0,1,2,3,4,5])\n",
    "\n",
    "fig, axes = plt.subplots(1, 4, figsize=(12,3))\n",
    "\n",
    "axes[0].scatter(xx, xx + 0.25*randn(len(xx)))\n",
    "axes[0].set_title(\"scatter\")\n",
    "\n",
    "axes[1].step(n, n**2, lw=2)\n",
    "axes[1].set_title(\"step\")\n",
    "\n",
    "axes[2].bar(n, n**2, align=\"center\", width=0.5, alpha=0.5)\n",
    "axes[2].set_title(\"bar\")\n",
    "\n",
    "axes[3].fill_between(x, x**2, x**3, color=\"green\", alpha=0.5);\n",
    "axes[3].set_title(\"fill_between\");"
   ]
  },
  {
   "cell_type": "code",
   "execution_count": null,
   "id": "fdf9781a-8d93-45b5-bc03-08e9e7df4d55",
   "metadata": {},
   "outputs": [],
   "source": [
    "# Histogramas\n",
    "n = np.random.randn(100000)\n",
    "fig, axes = plt.subplots(1, 2, figsize=(12,4))\n",
    "\n",
    "axes[0].hist(n)\n",
    "axes[0].set_title(\"Histograma Padrão\")\n",
    "axes[0].set_xlim((min(n), max(n)))\n",
    "\n",
    "axes[1].hist(n, cumulative=True, bins=50)\n",
    "axes[1].set_title(\"Histograma Cumulativo\")\n",
    "axes[1].set_xlim((min(n), max(n)));"
   ]
  },
  {
   "cell_type": "code",
   "execution_count": null,
   "id": "86736adf-f0e4-47cb-aab7-8b5486319479",
   "metadata": {},
   "outputs": [],
   "source": [
    "# Color Map\n",
    "alpha = 0.7\n",
    "phi_ext = 2 * np.pi * 0.5\n",
    "\n",
    "def ColorMap(phi_m, phi_p):\n",
    "    return ( + alpha - 2 * np.cos(phi_p)*cos(phi_m) - alpha * np.cos(phi_ext - 2*phi_p))\n",
    "\n",
    "phi_m = np.linspace(0, 2*np.pi, 100)\n",
    "phi_p = np.linspace(0, 2*np.pi, 100)\n",
    "X,Y = np.meshgrid(phi_p, phi_m)\n",
    "Z = ColorMap(X, Y).T\n",
    "\n",
    "fig, ax = plt.subplots()\n",
    "\n",
    "p = ax.pcolor(X/(2*np.pi), Y/(2*np.pi), Z, cmap=cm.RdBu, vmin=abs(Z).min(), vmax=abs(Z).max())\n",
    "cb = fig.colorbar(p, ax=ax)"
   ]
  }
 ],
 "metadata": {
  "kernelspec": {
   "display_name": "Python 3 (ipykernel)",
   "language": "python",
   "name": "python3"
  },
  "language_info": {
   "codemirror_mode": {
    "name": "ipython",
    "version": 3
   },
   "file_extension": ".py",
   "mimetype": "text/x-python",
   "name": "python",
   "nbconvert_exporter": "python",
   "pygments_lexer": "ipython3",
   "version": "3.9.2"
  }
 },
 "nbformat": 4,
 "nbformat_minor": 5
}
