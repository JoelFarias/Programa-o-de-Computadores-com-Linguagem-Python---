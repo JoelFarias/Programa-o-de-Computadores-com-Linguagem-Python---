{
 "cells": [
  {
   "cell_type": "markdown",
   "id": "8ae51933-913f-43a7-adde-a1d82418725e",
   "metadata": {},
   "source": [
    "# Exercício Resolvido"
   ]
  },
  {
   "cell_type": "markdown",
   "id": "24cf8819-b2a1-4bb2-8844-98856b3f9564",
   "metadata": {
    "jp-MarkdownHeadingCollapsed": true
   },
   "source": [
    "#### 05. Receber 5 valores, contendo o nome e o telefone separados por \";\" e criar uma coleção com isso."
   ]
  },
  {
   "cell_type": "code",
   "execution_count": 5,
   "id": "36fe003c-797b-428d-8da1-fc7d0c64d6d8",
   "metadata": {},
   "outputs": [
    {
     "name": "stdout",
     "output_type": "stream",
     "text": [
      "Informe o nome e o telefone: (1)\n"
     ]
    },
    {
     "name": "stdin",
     "output_type": "stream",
     "text": [
      " Fernando;121212\n"
     ]
    },
    {
     "name": "stdout",
     "output_type": "stream",
     "text": [
      "Informe o nome e o telefone: (2)\n"
     ]
    },
    {
     "name": "stdin",
     "output_type": "stream",
     "text": [
      " Joao;3323232\n"
     ]
    },
    {
     "name": "stdout",
     "output_type": "stream",
     "text": [
      "Informe o nome e o telefone: (3)\n"
     ]
    },
    {
     "name": "stdin",
     "output_type": "stream",
     "text": [
      " Mario;234234342\n"
     ]
    },
    {
     "name": "stdout",
     "output_type": "stream",
     "text": [
      "Informe o nome e o telefone: (4)\n"
     ]
    },
    {
     "name": "stdin",
     "output_type": "stream",
     "text": [
      " Souza;6577567657\n"
     ]
    },
    {
     "name": "stdout",
     "output_type": "stream",
     "text": [
      "Informe o nome e o telefone: (5)\n"
     ]
    },
    {
     "name": "stdin",
     "output_type": "stream",
     "text": [
      " Carlos;56546456456\n"
     ]
    }
   ],
   "source": [
    "print(\"Informe o nome e o telefone: (1)\")\n",
    "val = input()\n",
    "valS = val.split(\";\")\n",
    "agenda = {valS[0]:valS[1]}\n",
    "print(\"Informe o nome e o telefone: (2)\")\n",
    "val = input()\n",
    "valS = val.split(\";\")\n",
    "agenda[valS[0]] = valS[1]\n",
    "print(\"Informe o nome e o telefone: (3)\")\n",
    "val = input()\n",
    "valS = val.split(\";\")\n",
    "agenda[valS[0]] = valS[1]\n",
    "print(\"Informe o nome e o telefone: (4)\")\n",
    "val = input()\n",
    "valS = val.split(\";\")\n",
    "agenda[valS[0]] = valS[1]\n",
    "print(\"Informe o nome e o telefone: (5)\")\n",
    "val = input()\n",
    "valS = val.split(\";\")\n",
    "agenda[valS[0]] = valS[1]"
   ]
  },
  {
   "cell_type": "code",
   "execution_count": 6,
   "id": "7445ceb7-89cf-425d-b5a4-c7b4372d477b",
   "metadata": {},
   "outputs": [
    {
     "name": "stdout",
     "output_type": "stream",
     "text": [
      "{'Fernando': '121212', 'Joao': '3323232', 'Mario': '234234342', 'Souza': '6577567657', 'Carlos': '56546456456'}\n"
     ]
    }
   ],
   "source": [
    "print(agenda)"
   ]
  },
  {
   "cell_type": "markdown",
   "id": "58ce1398-72e8-4dd4-b051-5e58961384d4",
   "metadata": {},
   "source": [
    "#### 06. Obter o nome e mostrar o telefone"
   ]
  },
  {
   "cell_type": "code",
   "execution_count": 9,
   "id": "81846a83-11f5-40f4-8468-75d00bbc555a",
   "metadata": {},
   "outputs": [
    {
     "name": "stdout",
     "output_type": "stream",
     "text": [
      "234234342\n"
     ]
    }
   ],
   "source": [
    "print(agenda['Mario'])"
   ]
  },
  {
   "cell_type": "markdown",
   "id": "a5dfd580-4e37-4300-b96e-c05379dae125",
   "metadata": {},
   "source": [
    "# Aula 03"
   ]
  },
  {
   "cell_type": "markdown",
   "id": "8777794f-563c-43fd-90be-1457a33b61c0",
   "metadata": {},
   "source": [
    "### Estruturas de Decisão"
   ]
  },
  {
   "cell_type": "code",
   "execution_count": 13,
   "id": "ed2e6ee7-e45d-46a7-9d7a-608115735956",
   "metadata": {},
   "outputs": [
    {
     "name": "stdin",
     "output_type": "stream",
     "text": [
      "Informe a sua idade: 18\n"
     ]
    },
    {
     "name": "stdout",
     "output_type": "stream",
     "text": [
      "Você é adulto\n"
     ]
    }
   ],
   "source": [
    "idade = input(\"Informe a sua idade:\")\n",
    "idade = int(idade)\n",
    "\n",
    "if idade < 18:\n",
    "    print(\"Você ainda não é adulto\")\n",
    "else:\n",
    "    print(\"Você é adulto\")"
   ]
  },
  {
   "cell_type": "code",
   "execution_count": 14,
   "id": "efd1ef95-ce78-4ec5-adb4-622a71835a25",
   "metadata": {},
   "outputs": [
    {
     "name": "stdin",
     "output_type": "stream",
     "text": [
      "Informe a sua idade: 63\n"
     ]
    },
    {
     "name": "stdout",
     "output_type": "stream",
     "text": [
      "Você está na melhor idade\n"
     ]
    }
   ],
   "source": [
    "idade = input(\"Informe a sua idade:\")\n",
    "idade = int(idade)\n",
    "\n",
    "if idade < 18:\n",
    "    print(\"Você ainda não é adulto\")\n",
    "elif idade > 17 and idade < 60:\n",
    "    print(\"Você é adulto\")\n",
    "else:\n",
    "    print(\"Você está na melhor idade\")"
   ]
  },
  {
   "cell_type": "code",
   "execution_count": 15,
   "id": "b45758db-46bc-40df-be74-123de39f8941",
   "metadata": {},
   "outputs": [
    {
     "name": "stdout",
     "output_type": "stream",
     "text": [
      "Olá Python\n",
      "Olá Python\n"
     ]
    }
   ],
   "source": [
    "i = 4\n",
    "if i > 3 > 2 < 10 > 5:\n",
    "    print(\"Olá Python\")\n",
    "if 3 < i < 5:    \n",
    "    print(\"Olá Python\")    "
   ]
  },
  {
   "cell_type": "markdown",
   "id": "3650d3e8-f2e4-4693-b043-1ac44275c8cd",
   "metadata": {},
   "source": [
    "### Estruturas de Repetição"
   ]
  },
  {
   "cell_type": "code",
   "execution_count": 26,
   "id": "6a279f88-23d7-4c3a-9436-80d3a8c7d53b",
   "metadata": {},
   "outputs": [
    {
     "name": "stdin",
     "output_type": "stream",
     "text": [
      "Tipo 10,2\n"
     ]
    },
    {
     "name": "stdout",
     "output_type": "stream",
     "text": [
      "<class 'tuple'>\n",
      "(10, 2)\n"
     ]
    }
   ],
   "source": [
    "x = eval(input(\"Tipo\"))\n",
    "print(type(x))\n",
    "print(x)"
   ]
  },
  {
   "cell_type": "markdown",
   "id": "72c76213-ea66-4f2c-9905-79b8395bf5b7",
   "metadata": {},
   "source": [
    "#### Laço Indeterminado"
   ]
  },
  {
   "cell_type": "code",
   "execution_count": 27,
   "id": "3bdc6114-8335-4bf7-b324-50450c0dc6b4",
   "metadata": {},
   "outputs": [
    {
     "name": "stdin",
     "output_type": "stream",
     "text": [
      "Entre com a temperatura: 36\n"
     ]
    },
    {
     "name": "stdout",
     "output_type": "stream",
     "text": [
      "Em Fahrenheit: 32.8\n"
     ]
    },
    {
     "name": "stdin",
     "output_type": "stream",
     "text": [
      "Entre com a temperatura: -1000\n"
     ]
    },
    {
     "name": "stdout",
     "output_type": "stream",
     "text": [
      "Até a próxima\n"
     ]
    }
   ],
   "source": [
    "temp = 0\n",
    "while temp != -1000:\n",
    "    temp = eval(input(\"Entre com a temperatura:\"))\n",
    "    if temp != -1000:\n",
    "        print(\"Em Fahrenheit:\", 9/5*temp-32)\n",
    "print(\"Até a próxima\")        "
   ]
  },
  {
   "cell_type": "code",
   "execution_count": 28,
   "id": "98eca792-0535-416c-b13b-7d6714bf1121",
   "metadata": {},
   "outputs": [
    {
     "name": "stdin",
     "output_type": "stream",
     "text": [
      "Informe o valor: 50\n"
     ]
    },
    {
     "name": "stdout",
     "output_type": "stream",
     "text": [
      "Muito baixo\n"
     ]
    },
    {
     "name": "stdin",
     "output_type": "stream",
     "text": [
      "Informe o valor: 75\n"
     ]
    },
    {
     "name": "stdout",
     "output_type": "stream",
     "text": [
      "Muito alto\n"
     ]
    },
    {
     "name": "stdin",
     "output_type": "stream",
     "text": [
      "Informe o valor: 60\n"
     ]
    },
    {
     "name": "stdout",
     "output_type": "stream",
     "text": [
      "Muito alto\n"
     ]
    },
    {
     "name": "stdin",
     "output_type": "stream",
     "text": [
      "Informe o valor: 65\n"
     ]
    },
    {
     "name": "stdout",
     "output_type": "stream",
     "text": [
      "Muito alto\n"
     ]
    },
    {
     "name": "stdin",
     "output_type": "stream",
     "text": [
      "Informe o valor: 55\n"
     ]
    },
    {
     "name": "stdout",
     "output_type": "stream",
     "text": [
      "Parabéns vc acertou\n"
     ]
    }
   ],
   "source": [
    "from random import randint\n",
    "secreto = randint(1, 100)\n",
    "chute = 0\n",
    "while chute != secreto:\n",
    "    chute = eval(input(\"Informe o valor:\"))\n",
    "    if chute > secreto:\n",
    "        print(\"Muito alto\")\n",
    "    elif chute < secreto:\n",
    "        print(\"Muito baixo\")\n",
    "\n",
    "print(\"Parabéns vc acertou\")        "
   ]
  },
  {
   "cell_type": "markdown",
   "id": "1531b476-4116-4bbc-81ed-849be5cf3000",
   "metadata": {},
   "source": [
    "#### Laço Determinado"
   ]
  },
  {
   "cell_type": "code",
   "execution_count": 34,
   "id": "e222c831-5b12-4c7b-9c09-e50ce53503a8",
   "metadata": {},
   "outputs": [
    {
     "name": "stdout",
     "output_type": "stream",
     "text": [
      "0\n",
      "1\n",
      "2\n",
      "3\n",
      "4\n",
      "5\n",
      "6\n",
      "7\n",
      "8\n",
      "9\n"
     ]
    }
   ],
   "source": [
    "for i in range(10):\n",
    "    print(i)"
   ]
  },
  {
   "cell_type": "code",
   "execution_count": 42,
   "id": "3de8a7a7-8c7b-4f01-8669-49f3a66f65f5",
   "metadata": {},
   "outputs": [
    {
     "name": "stdout",
     "output_type": "stream",
     "text": [
      "2\n",
      "4\n",
      "6\n",
      "8\n",
      "10\n"
     ]
    }
   ],
   "source": [
    "for i in range(2, 11, 2): # inicial, final - 1, passo\n",
    "    print(i)"
   ]
  },
  {
   "cell_type": "code",
   "execution_count": 55,
   "id": "f0e460fd-056f-4a56-a712-de708062d195",
   "metadata": {},
   "outputs": [
    {
     "name": "stdout",
     "output_type": "stream",
     "text": [
      "0 1 2 3 4 5 6 7 8 9 \n",
      "Fim\n"
     ]
    }
   ],
   "source": [
    "for i in range(10):\n",
    "    print(i, end=\" \")\n",
    "print(\"\\nFim\")"
   ]
  },
  {
   "cell_type": "code",
   "execution_count": 62,
   "id": "7116bf64-94dc-46f2-ad21-e594a03b72e4",
   "metadata": {},
   "outputs": [
    {
     "name": "stdout",
     "output_type": "stream",
     "text": [
      "A B C D E F G H I J K L M N O P Q R S T U V W X Y Z \n",
      "Terminei\n"
     ]
    }
   ],
   "source": [
    "for i in range(ord('A'), ord('Z')+1):\n",
    "    print(chr(i), end=' ')\n",
    "print('\\nTerminei')    "
   ]
  },
  {
   "cell_type": "code",
   "execution_count": 77,
   "id": "76fa71fc-e3fe-4370-9026-4e89afb368e9",
   "metadata": {},
   "outputs": [
    {
     "name": "stdout",
     "output_type": "stream",
     "text": [
      "N\n",
      "FERNAND\n",
      "ODNANREF\n"
     ]
    }
   ],
   "source": [
    "palavra = \"FERNANDO\"\n",
    "print(palavra[-5])\n",
    "print(palavra[:-1])\n",
    "print(palavra[::-1])"
   ]
  },
  {
   "cell_type": "code",
   "execution_count": 82,
   "id": "a3c01c17-fac3-48d3-9914-f11df5a49505",
   "metadata": {},
   "outputs": [
    {
     "name": "stdout",
     "output_type": "stream",
     "text": [
      "0 1 2 3 4 5 6 7 8 9 11 22 33 44 55 \n",
      "66 77 88 99 101 111 121 131 141 151 161 171 181 191 202 \n",
      "212 222 232 242 252 262 272 282 292 303 313 323 333 343 353 \n",
      "363 373 383 393 404 414 424 434 444 454 464 474 484 494 505 \n",
      "515 525 535 545 555 565 575 585 595 606 616 626 636 646 656 \n",
      "666 676 686 696 707 717 727 737 747 757 767 777 787 797 808 \n",
      "818 828 838 848 858 868 878 888 898 909 919 929 939 949 959 \n",
      "969 979 989 999 1001 1111 1221 1331 1441 1551 1661 1771 1881 1991 2002 \n",
      "2112 2222 2332 2442 2552 2662 2772 2882 2992 3003 3113 3223 3333 3443 3553 \n",
      "3663 3773 3883 3993 4004 4114 4224 4334 4444 4554 4664 4774 4884 4994 5005 \n",
      "5115 5225 5335 5445 5555 5665 5775 5885 5995 6006 6116 6226 6336 6446 6556 \n",
      "6666 6776 6886 6996 7007 7117 7227 7337 7447 7557 7667 7777 7887 7997 8008 \n",
      "8118 8228 8338 8448 8558 8668 8778 8888 8998 9009 9119 9229 9339 9449 9559 \n",
      "9669 9779 9889 9999 "
     ]
    }
   ],
   "source": [
    "# Números palíndromos de 0 até 10000\n",
    "quebra = 0\n",
    "for i in range(0, 10001):\n",
    "    s = str(i)\n",
    "    if s == s[::-1]:\n",
    "        print(s, end=\" \")\n",
    "        quebra += 1\n",
    "        if quebra == 15:\n",
    "            print(\"\")\n",
    "            quebra = 0"
   ]
  },
  {
   "cell_type": "code",
   "execution_count": 87,
   "id": "0764224e-6a5e-48b0-af17-ab2e4149f3ff",
   "metadata": {},
   "outputs": [
    {
     "name": "stdin",
     "output_type": "stream",
     "text": [
      "Informe um valor 3\n"
     ]
    },
    {
     "ename": "NameError",
     "evalue": "name 'j' is not defined",
     "output_type": "error",
     "traceback": [
      "\u001b[0;31m---------------------------------------------------------------------------\u001b[0m",
      "\u001b[0;31mNameError\u001b[0m                                 Traceback (most recent call last)",
      "Cell \u001b[0;32mIn[87], line 4\u001b[0m\n\u001b[1;32m      1\u001b[0m x \u001b[38;5;241m=\u001b[39m \u001b[38;5;28meval\u001b[39m(\u001b[38;5;28minput\u001b[39m(\u001b[38;5;124m\"\u001b[39m\u001b[38;5;124mInforme um valor\u001b[39m\u001b[38;5;124m\"\u001b[39m))\n\u001b[1;32m      3\u001b[0m \u001b[38;5;28;01mif\u001b[39;00m x \u001b[38;5;241m==\u001b[39m \u001b[38;5;241m3\u001b[39m:\n\u001b[0;32m----> 4\u001b[0m     j \u001b[38;5;241m+\u001b[39m\u001b[38;5;241m=\u001b[39m \u001b[38;5;241m4\u001b[39m\n\u001b[1;32m      6\u001b[0m \u001b[38;5;28mprint\u001b[39m(j)    \n",
      "\u001b[0;31mNameError\u001b[0m: name 'j' is not defined"
     ]
    }
   ],
   "source": [
    "x = eval(input(\"Informe um valor\"))\n",
    "\n",
    "if x == 3:\n",
    "    j += 4\n",
    "\n",
    "print(j)    "
   ]
  },
  {
   "cell_type": "code",
   "execution_count": 83,
   "id": "5b32a06c-2fdb-48bf-bb4e-b6cc1b1a8120",
   "metadata": {},
   "outputs": [],
   "source": [
    "a = 10.3;"
   ]
  },
  {
   "cell_type": "code",
   "execution_count": 89,
   "id": "fcb210a8-1a75-41a5-b51d-9a66d34fc4a1",
   "metadata": {},
   "outputs": [
    {
     "name": "stdout",
     "output_type": "stream",
     "text": [
      "A quantidade é: 1000\n"
     ]
    }
   ],
   "source": [
    "# Informe a qtd de números terminados em 4 de 0 até 10000\n",
    "ct = 0\n",
    "for i in range(0, 10001):\n",
    "    s = str(i)\n",
    "    if s[-1] == '4':\n",
    "        ct += 1\n",
    "\n",
    "print(\"A quantidade é:\",ct)"
   ]
  },
  {
   "cell_type": "code",
   "execution_count": 91,
   "id": "1503f7a2-e722-4ce9-b136-3e15629d5cf5",
   "metadata": {},
   "outputs": [
    {
     "name": "stdout",
     "output_type": "stream",
     "text": [
      "Olá Mundo!\n"
     ]
    }
   ],
   "source": [
    "x = 2\n",
    "if x > 2:\n",
    "    pass\n",
    "else:\n",
    "    print(\"Olá Mundo!\")"
   ]
  },
  {
   "cell_type": "code",
   "execution_count": 94,
   "id": "4625a1fc-738c-4459-a6cd-f41549268965",
   "metadata": {},
   "outputs": [
    {
     "name": "stdout",
     "output_type": "stream",
     "text": [
      "0 1 "
     ]
    }
   ],
   "source": [
    "for x in range(0,10):\n",
    "    if x == 2:\n",
    "        break\n",
    "    print(x, end=\" \")"
   ]
  },
  {
   "cell_type": "code",
   "execution_count": null,
   "id": "af1c0d48-eda3-45e7-a54e-2b4865e9638b",
   "metadata": {},
   "outputs": [],
   "source": []
  }
 ],
 "metadata": {
  "kernelspec": {
   "display_name": "Python 3 (ipykernel)",
   "language": "python",
   "name": "python3"
  },
  "language_info": {
   "codemirror_mode": {
    "name": "ipython",
    "version": 3
   },
   "file_extension": ".py",
   "mimetype": "text/x-python",
   "name": "python",
   "nbconvert_exporter": "python",
   "pygments_lexer": "ipython3",
   "version": "3.9.2"
  }
 },
 "nbformat": 4,
 "nbformat_minor": 5
}
